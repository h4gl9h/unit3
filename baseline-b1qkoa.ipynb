{
 "cells": [
  {
   "cell_type": "markdown",
   "execution_count": null,
   "metadata": {},
   "source": [
    "![](https://www.pata.org/wp-content/uploads/2014/09/TripAdvisor_Logo-300x119.png)\n",
    "# Predict TripAdvisor Rating\n",
    "## В этом соревновании нам предстоит предсказать рейтинг ресторана в TripAdvisor\n",
    "**По ходу задачи:**\n",
    "* Прокачаем работу с pandas\n",
    "* Научимся работать с Kaggle Notebooks\n",
    "* Поймем как делать предобработку различных данных\n",
    "* Научимся работать с пропущенными данными (Nan)\n",
    "* Познакомимся с различными видами кодирования признаков\n",
    "* Немного попробуем [Feature Engineering](https://ru.wikipedia.org/wiki/Конструирование_признаков) (генерировать новые признаки)\n",
    "* И совсем немного затронем ML\n",
    "* И многое другое...   \n",
    "\n",
    "\n",
    "\n",
    "### И самое важное, все это вы сможете сделать самостоятельно!\n",
    "\n",
    "*Этот Ноутбук являетсся Примером/Шаблоном к этому соревнованию (Baseline) и не служит готовым решением!*   \n",
    "Вы можете использовать его как основу для построения своего решения.\n",
    "\n",
    "> что такое baseline решение, зачем оно нужно и почему предоставлять baseline к соревнованию стало важным стандартом на kaggle и других площадках.   \n",
    "**baseline** создается больше как шаблон, где можно посмотреть как происходит обращение с входящими данными и что нужно получить на выходе. При этом МЛ начинка может быть достаточно простой, просто для примера. Это помогает быстрее приступить к самому МЛ, а не тратить ценное время на чисто инженерные задачи. \n",
    "Также baseline являеться хорошей опорной точкой по метрике. Если твое решение хуже baseline - ты явно делаешь что-то не то и стоит попробовать другой путь) \n",
    "\n",
    "В контексте нашего соревнования baseline идет с небольшими примерами того, что можно делать с данными, и с инструкцией, что делать дальше, чтобы улучшить результат.  Вообще готовым решением это сложно назвать, так как используются всего 2 самых простых признака (а остальные исключаются)."
   ]
  },
  {
   "cell_type": "markdown",
   "execution_count": null,
   "metadata": {},
   "source": [
    "# import"
   ]
  },
  {
   "cell_type": "code",
   "execution_count": 1,
   "metadata": {
    "_cell_guid": "b1076dfc-b9ad-4769-8c92-a6c4dae69d19",
    "_uuid": "8f2839f25d086af736a60e9eeb907d3b93b6e0e5"
   },
   "outputs": [
    {
     "name": "stdout",
     "output_type": "stream",
     "text": [
      "/kaggle/input/sf-dst-restaurant-rating/kaggle_task.csv\n",
      "/kaggle/input/sf-dst-restaurant-rating/main_task.csv\n",
      "/kaggle/input/sf-dst-restaurant-rating/sample_submission.csv\n"
     ]
    }
   ],
   "source": [
    "# This Python 3 environment comes with many helpful analytics libraries installed\n",
    "# It is defined by the kaggle/python docker image: https://github.com/kaggle/docker-python\n",
    "# For example, here's several helpful packages to load in \n",
    "\n",
    "\n",
    "\n",
    "import numpy as np # linear algebra\n",
    "import pandas as pd # data processing, CSV file I/O (e.g. pd.read_csv)\n",
    "\n",
    "import matplotlib.pyplot as plt\n",
    "import seaborn as sns \n",
    "%matplotlib inline\n",
    "\n",
    "import re \n",
    "import time\n",
    "import datetime\n",
    "from datetime import datetime, timedelta\n",
    "\n",
    "# Загружаем специальный удобный инструмент для разделения датасета:\n",
    "from sklearn.model_selection import train_test_split\n",
    "\n",
    "# Input data files are available in the \"../input/\" directory.\n",
    "# For example, running this (by clicking run or pressing Shift+Enter) will list all files under the input directory\n",
    "\n",
    "import os\n",
    "for dirname, _, filenames in os.walk('/kaggle/input'):\n",
    "    for filename in filenames:\n",
    "        print(os.path.join(dirname, filename))\n",
    "\n",
    "# Any results you write to the current directory are saved as output."
   ]
  },
  {
   "cell_type": "code",
   "execution_count": null,
   "metadata": {},
   "outputs": [],
   "source": []
  },
  {
   "cell_type": "code",
   "execution_count": 2,
   "metadata": {},
   "outputs": [],
   "source": [
    "# всегда фиксируйте RANDOM_SEED, чтобы ваши эксперименты были воспроизводимы!\n",
    "RANDOM_SEED = 42"
   ]
  },
  {
   "cell_type": "code",
   "execution_count": 3,
   "metadata": {},
   "outputs": [],
   "source": [
    "# зафиксируем версию пакетов, чтобы эксперименты были воспроизводимы:\n",
    "!pip freeze > requirements.txt"
   ]
  },
  {
   "cell_type": "markdown",
   "execution_count": null,
   "metadata": {},
   "source": [
    "# DATA"
   ]
  },
  {
   "cell_type": "code",
   "execution_count": 4,
   "metadata": {
    "_cell_guid": "79c7e3d0-c299-4dcb-8224-4455121ee9b0",
    "_uuid": "d629ff2d2480ee46fbb7e2d37f6b5fab8052498a"
   },
   "outputs": [],
   "source": [
    "DATA_DIR = '/kaggle/input/sf-dst-restaurant-rating/'\n",
    "df_train = pd.read_csv(DATA_DIR+'/main_task.csv')\n",
    "df_test = pd.read_csv(DATA_DIR+'kaggle_task.csv')\n",
    "sample_submission = pd.read_csv(DATA_DIR+'/sample_submission.csv')"
   ]
  },
  {
   "cell_type": "code",
   "execution_count": 5,
   "metadata": {},
   "outputs": [
    {
     "name": "stdout",
     "output_type": "stream",
     "text": [
      "<class 'pandas.core.frame.DataFrame'>\n",
      "RangeIndex: 40000 entries, 0 to 39999\n",
      "Data columns (total 10 columns):\n",
      "Restaurant_id        40000 non-null object\n",
      "City                 40000 non-null object\n",
      "Cuisine Style        30717 non-null object\n",
      "Ranking              40000 non-null float64\n",
      "Rating               40000 non-null float64\n",
      "Price Range          26114 non-null object\n",
      "Number of Reviews    37457 non-null float64\n",
      "Reviews              40000 non-null object\n",
      "URL_TA               40000 non-null object\n",
      "ID_TA                40000 non-null object\n",
      "dtypes: float64(3), object(7)\n",
      "memory usage: 3.1+ MB\n"
     ]
    }
   ],
   "source": [
    "df_train.info()"
   ]
  },
  {
   "cell_type": "code",
   "execution_count": 6,
   "metadata": {},
   "outputs": [
    {
     "data": {
      "text/html": [
       "<div>\n",
       "<style scoped>\n",
       "    .dataframe tbody tr th:only-of-type {\n",
       "        vertical-align: middle;\n",
       "    }\n",
       "\n",
       "    .dataframe tbody tr th {\n",
       "        vertical-align: top;\n",
       "    }\n",
       "\n",
       "    .dataframe thead th {\n",
       "        text-align: right;\n",
       "    }\n",
       "</style>\n",
       "<table border=\"1\" class=\"dataframe\">\n",
       "  <thead>\n",
       "    <tr style=\"text-align: right;\">\n",
       "      <th></th>\n",
       "      <th>Restaurant_id</th>\n",
       "      <th>City</th>\n",
       "      <th>Cuisine Style</th>\n",
       "      <th>Ranking</th>\n",
       "      <th>Rating</th>\n",
       "      <th>Price Range</th>\n",
       "      <th>Number of Reviews</th>\n",
       "      <th>Reviews</th>\n",
       "      <th>URL_TA</th>\n",
       "      <th>ID_TA</th>\n",
       "    </tr>\n",
       "  </thead>\n",
       "  <tbody>\n",
       "    <tr>\n",
       "      <th>0</th>\n",
       "      <td>id_5569</td>\n",
       "      <td>Paris</td>\n",
       "      <td>['European', 'French', 'International']</td>\n",
       "      <td>5570.0</td>\n",
       "      <td>3.5</td>\n",
       "      <td>$$ - $$$</td>\n",
       "      <td>194.0</td>\n",
       "      <td>[['Good food at your doorstep', 'A good hotel ...</td>\n",
       "      <td>/Restaurant_Review-g187147-d1912643-Reviews-R_...</td>\n",
       "      <td>d1912643</td>\n",
       "    </tr>\n",
       "    <tr>\n",
       "      <th>1</th>\n",
       "      <td>id_1535</td>\n",
       "      <td>Stockholm</td>\n",
       "      <td>NaN</td>\n",
       "      <td>1537.0</td>\n",
       "      <td>4.0</td>\n",
       "      <td>NaN</td>\n",
       "      <td>10.0</td>\n",
       "      <td>[['Unique cuisine', 'Delicious Nepalese food']...</td>\n",
       "      <td>/Restaurant_Review-g189852-d7992032-Reviews-Bu...</td>\n",
       "      <td>d7992032</td>\n",
       "    </tr>\n",
       "    <tr>\n",
       "      <th>2</th>\n",
       "      <td>id_352</td>\n",
       "      <td>London</td>\n",
       "      <td>['Japanese', 'Sushi', 'Asian', 'Grill', 'Veget...</td>\n",
       "      <td>353.0</td>\n",
       "      <td>4.5</td>\n",
       "      <td>$$$$</td>\n",
       "      <td>688.0</td>\n",
       "      <td>[['Catch up with friends', 'Not exceptional'],...</td>\n",
       "      <td>/Restaurant_Review-g186338-d8632781-Reviews-RO...</td>\n",
       "      <td>d8632781</td>\n",
       "    </tr>\n",
       "    <tr>\n",
       "      <th>3</th>\n",
       "      <td>id_3456</td>\n",
       "      <td>Berlin</td>\n",
       "      <td>NaN</td>\n",
       "      <td>3458.0</td>\n",
       "      <td>5.0</td>\n",
       "      <td>NaN</td>\n",
       "      <td>3.0</td>\n",
       "      <td>[[], []]</td>\n",
       "      <td>/Restaurant_Review-g187323-d1358776-Reviews-Es...</td>\n",
       "      <td>d1358776</td>\n",
       "    </tr>\n",
       "    <tr>\n",
       "      <th>4</th>\n",
       "      <td>id_615</td>\n",
       "      <td>Munich</td>\n",
       "      <td>['German', 'Central European', 'Vegetarian Fri...</td>\n",
       "      <td>621.0</td>\n",
       "      <td>4.0</td>\n",
       "      <td>$$ - $$$</td>\n",
       "      <td>84.0</td>\n",
       "      <td>[['Best place to try a Bavarian food', 'Nice b...</td>\n",
       "      <td>/Restaurant_Review-g187309-d6864963-Reviews-Au...</td>\n",
       "      <td>d6864963</td>\n",
       "    </tr>\n",
       "  </tbody>\n",
       "</table>\n",
       "</div>"
      ],
      "text/plain": [
       "  Restaurant_id       City                                      Cuisine Style  \\\n",
       "0       id_5569      Paris            ['European', 'French', 'International']   \n",
       "1       id_1535  Stockholm                                                NaN   \n",
       "2        id_352     London  ['Japanese', 'Sushi', 'Asian', 'Grill', 'Veget...   \n",
       "3       id_3456     Berlin                                                NaN   \n",
       "4        id_615     Munich  ['German', 'Central European', 'Vegetarian Fri...   \n",
       "\n",
       "   Ranking  Rating Price Range  Number of Reviews  \\\n",
       "0   5570.0     3.5    $$ - $$$              194.0   \n",
       "1   1537.0     4.0         NaN               10.0   \n",
       "2    353.0     4.5        $$$$              688.0   \n",
       "3   3458.0     5.0         NaN                3.0   \n",
       "4    621.0     4.0    $$ - $$$               84.0   \n",
       "\n",
       "                                             Reviews  \\\n",
       "0  [['Good food at your doorstep', 'A good hotel ...   \n",
       "1  [['Unique cuisine', 'Delicious Nepalese food']...   \n",
       "2  [['Catch up with friends', 'Not exceptional'],...   \n",
       "3                                           [[], []]   \n",
       "4  [['Best place to try a Bavarian food', 'Nice b...   \n",
       "\n",
       "                                              URL_TA     ID_TA  \n",
       "0  /Restaurant_Review-g187147-d1912643-Reviews-R_...  d1912643  \n",
       "1  /Restaurant_Review-g189852-d7992032-Reviews-Bu...  d7992032  \n",
       "2  /Restaurant_Review-g186338-d8632781-Reviews-RO...  d8632781  \n",
       "3  /Restaurant_Review-g187323-d1358776-Reviews-Es...  d1358776  \n",
       "4  /Restaurant_Review-g187309-d6864963-Reviews-Au...  d6864963  "
      ]
     },
     "execution_count": 6,
     "metadata": {},
     "output_type": "execute_result"
    }
   ],
   "source": [
    "df_train.head(5)"
   ]
  },
  {
   "cell_type": "code",
   "execution_count": 7,
   "metadata": {},
   "outputs": [
    {
     "name": "stdout",
     "output_type": "stream",
     "text": [
      "<class 'pandas.core.frame.DataFrame'>\n",
      "RangeIndex: 10000 entries, 0 to 9999\n",
      "Data columns (total 9 columns):\n",
      "Restaurant_id        10000 non-null object\n",
      "City                 10000 non-null object\n",
      "Cuisine Style        7693 non-null object\n",
      "Ranking              10000 non-null float64\n",
      "Price Range          6525 non-null object\n",
      "Number of Reviews    9343 non-null float64\n",
      "Reviews              9998 non-null object\n",
      "URL_TA               10000 non-null object\n",
      "ID_TA                10000 non-null object\n",
      "dtypes: float64(2), object(7)\n",
      "memory usage: 703.2+ KB\n"
     ]
    }
   ],
   "source": [
    "df_test.info()"
   ]
  },
  {
   "cell_type": "code",
   "execution_count": 8,
   "metadata": {},
   "outputs": [
    {
     "data": {
      "text/html": [
       "<div>\n",
       "<style scoped>\n",
       "    .dataframe tbody tr th:only-of-type {\n",
       "        vertical-align: middle;\n",
       "    }\n",
       "\n",
       "    .dataframe tbody tr th {\n",
       "        vertical-align: top;\n",
       "    }\n",
       "\n",
       "    .dataframe thead th {\n",
       "        text-align: right;\n",
       "    }\n",
       "</style>\n",
       "<table border=\"1\" class=\"dataframe\">\n",
       "  <thead>\n",
       "    <tr style=\"text-align: right;\">\n",
       "      <th></th>\n",
       "      <th>Restaurant_id</th>\n",
       "      <th>City</th>\n",
       "      <th>Cuisine Style</th>\n",
       "      <th>Ranking</th>\n",
       "      <th>Price Range</th>\n",
       "      <th>Number of Reviews</th>\n",
       "      <th>Reviews</th>\n",
       "      <th>URL_TA</th>\n",
       "      <th>ID_TA</th>\n",
       "    </tr>\n",
       "  </thead>\n",
       "  <tbody>\n",
       "    <tr>\n",
       "      <th>0</th>\n",
       "      <td>id_0</td>\n",
       "      <td>Paris</td>\n",
       "      <td>['Bar', 'Pub']</td>\n",
       "      <td>12963.0</td>\n",
       "      <td>$$ - $$$</td>\n",
       "      <td>4.0</td>\n",
       "      <td>[[], []]</td>\n",
       "      <td>/Restaurant_Review-g187147-d10746918-Reviews-L...</td>\n",
       "      <td>d10746918</td>\n",
       "    </tr>\n",
       "    <tr>\n",
       "      <th>1</th>\n",
       "      <td>id_1</td>\n",
       "      <td>Helsinki</td>\n",
       "      <td>['European', 'Scandinavian', 'Gluten Free Opti...</td>\n",
       "      <td>106.0</td>\n",
       "      <td>$$ - $$$</td>\n",
       "      <td>97.0</td>\n",
       "      <td>[['Very good reviews!', 'Fine dining in Hakani...</td>\n",
       "      <td>/Restaurant_Review-g189934-d6674944-Reviews-Ra...</td>\n",
       "      <td>d6674944</td>\n",
       "    </tr>\n",
       "    <tr>\n",
       "      <th>2</th>\n",
       "      <td>id_2</td>\n",
       "      <td>Edinburgh</td>\n",
       "      <td>['Vegetarian Friendly']</td>\n",
       "      <td>810.0</td>\n",
       "      <td>$$ - $$$</td>\n",
       "      <td>28.0</td>\n",
       "      <td>[['Better than the Links', 'Ivy Black'], ['12/...</td>\n",
       "      <td>/Restaurant_Review-g186525-d13129638-Reviews-B...</td>\n",
       "      <td>d13129638</td>\n",
       "    </tr>\n",
       "    <tr>\n",
       "      <th>3</th>\n",
       "      <td>id_3</td>\n",
       "      <td>London</td>\n",
       "      <td>['Italian', 'Mediterranean', 'European', 'Vege...</td>\n",
       "      <td>1669.0</td>\n",
       "      <td>$$$$</td>\n",
       "      <td>202.0</td>\n",
       "      <td>[['Most exquisite', 'Delicious and authentic']...</td>\n",
       "      <td>/Restaurant_Review-g186338-d680417-Reviews-Qui...</td>\n",
       "      <td>d680417</td>\n",
       "    </tr>\n",
       "    <tr>\n",
       "      <th>4</th>\n",
       "      <td>id_4</td>\n",
       "      <td>Bratislava</td>\n",
       "      <td>['Italian', 'Mediterranean', 'European', 'Seaf...</td>\n",
       "      <td>37.0</td>\n",
       "      <td>$$$$</td>\n",
       "      <td>162.0</td>\n",
       "      <td>[['Always the best in bratislava', 'Very good ...</td>\n",
       "      <td>/Restaurant_Review-g274924-d1112354-Reviews-Ma...</td>\n",
       "      <td>d1112354</td>\n",
       "    </tr>\n",
       "  </tbody>\n",
       "</table>\n",
       "</div>"
      ],
      "text/plain": [
       "  Restaurant_id        City  \\\n",
       "0          id_0       Paris   \n",
       "1          id_1    Helsinki   \n",
       "2          id_2   Edinburgh   \n",
       "3          id_3      London   \n",
       "4          id_4  Bratislava   \n",
       "\n",
       "                                       Cuisine Style  Ranking Price Range  \\\n",
       "0                                     ['Bar', 'Pub']  12963.0    $$ - $$$   \n",
       "1  ['European', 'Scandinavian', 'Gluten Free Opti...    106.0    $$ - $$$   \n",
       "2                            ['Vegetarian Friendly']    810.0    $$ - $$$   \n",
       "3  ['Italian', 'Mediterranean', 'European', 'Vege...   1669.0        $$$$   \n",
       "4  ['Italian', 'Mediterranean', 'European', 'Seaf...     37.0        $$$$   \n",
       "\n",
       "   Number of Reviews                                            Reviews  \\\n",
       "0                4.0                                           [[], []]   \n",
       "1               97.0  [['Very good reviews!', 'Fine dining in Hakani...   \n",
       "2               28.0  [['Better than the Links', 'Ivy Black'], ['12/...   \n",
       "3              202.0  [['Most exquisite', 'Delicious and authentic']...   \n",
       "4              162.0  [['Always the best in bratislava', 'Very good ...   \n",
       "\n",
       "                                              URL_TA      ID_TA  \n",
       "0  /Restaurant_Review-g187147-d10746918-Reviews-L...  d10746918  \n",
       "1  /Restaurant_Review-g189934-d6674944-Reviews-Ra...   d6674944  \n",
       "2  /Restaurant_Review-g186525-d13129638-Reviews-B...  d13129638  \n",
       "3  /Restaurant_Review-g186338-d680417-Reviews-Qui...    d680417  \n",
       "4  /Restaurant_Review-g274924-d1112354-Reviews-Ma...   d1112354  "
      ]
     },
     "execution_count": 8,
     "metadata": {},
     "output_type": "execute_result"
    }
   ],
   "source": [
    "df_test.head(5)"
   ]
  },
  {
   "cell_type": "code",
   "execution_count": null,
   "metadata": {},
   "outputs": [],
   "source": []
  },
  {
   "cell_type": "code",
   "execution_count": 9,
   "metadata": {},
   "outputs": [
    {
     "name": "stdout",
     "output_type": "stream",
     "text": [
      "<class 'pandas.core.frame.DataFrame'>\n",
      "RangeIndex: 10000 entries, 0 to 9999\n",
      "Data columns (total 2 columns):\n",
      "Restaurant_id    10000 non-null object\n",
      "Rating           10000 non-null float64\n",
      "dtypes: float64(1), object(1)\n",
      "memory usage: 156.4+ KB\n"
     ]
    }
   ],
   "source": [
    "sample_submission.info()"
   ]
  },
  {
   "cell_type": "code",
   "execution_count": 10,
   "metadata": {},
   "outputs": [],
   "source": [
    "# ВАЖНО! дря корректной обработки признаков объединяем трейн и тест в один датасет\n",
    "df_train['sample'] = 1 # помечаем где у нас трейн\n",
    "df_test['sample'] = 0 # помечаем где у нас тест\n",
    "df_test['Rating'] = 0 # в тесте у нас нет значения Rating, мы его должны предсказать, по этому пока просто заполняем нулями\n",
    "\n",
    "data = df_test.append(df_train, sort=False).reset_index(drop=True) # объединяем"
   ]
  },
  {
   "cell_type": "code",
   "execution_count": 11,
   "metadata": {},
   "outputs": [
    {
     "name": "stdout",
     "output_type": "stream",
     "text": [
      "<class 'pandas.core.frame.DataFrame'>\n",
      "RangeIndex: 50000 entries, 0 to 49999\n",
      "Data columns (total 11 columns):\n",
      "Restaurant_id        50000 non-null object\n",
      "City                 50000 non-null object\n",
      "Cuisine Style        38410 non-null object\n",
      "Ranking              50000 non-null float64\n",
      "Price Range          32639 non-null object\n",
      "Number of Reviews    46800 non-null float64\n",
      "Reviews              49998 non-null object\n",
      "URL_TA               50000 non-null object\n",
      "ID_TA                50000 non-null object\n",
      "sample               50000 non-null int64\n",
      "Rating               50000 non-null float64\n",
      "dtypes: float64(3), int64(1), object(7)\n",
      "memory usage: 4.2+ MB\n"
     ]
    }
   ],
   "source": [
    "data.info()"
   ]
  },
  {
   "cell_type": "markdown",
   "execution_count": null,
   "metadata": {},
   "source": [
    "Подробнее по признакам:\n",
    "* City: Город \n",
    "* Cuisine Style: Кухня\n",
    "* Ranking: Ранг ресторана относительно других ресторанов в этом городе\n",
    "* Price Range: Цены в ресторане в 3 категориях\n",
    "* Number of Reviews: Количество отзывов\n",
    "* Reviews: 2 последних отзыва и даты этих отзывов\n",
    "* URL_TA: страница ресторана на 'www.tripadvisor.com' \n",
    "* ID_TA: ID ресторана в TripAdvisor\n",
    "* Rating: Рейтинг ресторана"
   ]
  },
  {
   "cell_type": "code",
   "execution_count": 12,
   "metadata": {},
   "outputs": [
    {
     "data": {
      "text/html": [
       "<div>\n",
       "<style scoped>\n",
       "    .dataframe tbody tr th:only-of-type {\n",
       "        vertical-align: middle;\n",
       "    }\n",
       "\n",
       "    .dataframe tbody tr th {\n",
       "        vertical-align: top;\n",
       "    }\n",
       "\n",
       "    .dataframe thead th {\n",
       "        text-align: right;\n",
       "    }\n",
       "</style>\n",
       "<table border=\"1\" class=\"dataframe\">\n",
       "  <thead>\n",
       "    <tr style=\"text-align: right;\">\n",
       "      <th></th>\n",
       "      <th>Restaurant_id</th>\n",
       "      <th>City</th>\n",
       "      <th>Cuisine Style</th>\n",
       "      <th>Ranking</th>\n",
       "      <th>Price Range</th>\n",
       "      <th>Number of Reviews</th>\n",
       "      <th>Reviews</th>\n",
       "      <th>URL_TA</th>\n",
       "      <th>ID_TA</th>\n",
       "      <th>sample</th>\n",
       "      <th>Rating</th>\n",
       "    </tr>\n",
       "  </thead>\n",
       "  <tbody>\n",
       "    <tr>\n",
       "      <th>0</th>\n",
       "      <td>id_0</td>\n",
       "      <td>Paris</td>\n",
       "      <td>['Bar', 'Pub']</td>\n",
       "      <td>12963.0</td>\n",
       "      <td>$$ - $$$</td>\n",
       "      <td>4.0</td>\n",
       "      <td>[[], []]</td>\n",
       "      <td>/Restaurant_Review-g187147-d10746918-Reviews-L...</td>\n",
       "      <td>d10746918</td>\n",
       "      <td>0</td>\n",
       "      <td>0.0</td>\n",
       "    </tr>\n",
       "    <tr>\n",
       "      <th>1</th>\n",
       "      <td>id_1</td>\n",
       "      <td>Helsinki</td>\n",
       "      <td>['European', 'Scandinavian', 'Gluten Free Opti...</td>\n",
       "      <td>106.0</td>\n",
       "      <td>$$ - $$$</td>\n",
       "      <td>97.0</td>\n",
       "      <td>[['Very good reviews!', 'Fine dining in Hakani...</td>\n",
       "      <td>/Restaurant_Review-g189934-d6674944-Reviews-Ra...</td>\n",
       "      <td>d6674944</td>\n",
       "      <td>0</td>\n",
       "      <td>0.0</td>\n",
       "    </tr>\n",
       "    <tr>\n",
       "      <th>2</th>\n",
       "      <td>id_2</td>\n",
       "      <td>Edinburgh</td>\n",
       "      <td>['Vegetarian Friendly']</td>\n",
       "      <td>810.0</td>\n",
       "      <td>$$ - $$$</td>\n",
       "      <td>28.0</td>\n",
       "      <td>[['Better than the Links', 'Ivy Black'], ['12/...</td>\n",
       "      <td>/Restaurant_Review-g186525-d13129638-Reviews-B...</td>\n",
       "      <td>d13129638</td>\n",
       "      <td>0</td>\n",
       "      <td>0.0</td>\n",
       "    </tr>\n",
       "    <tr>\n",
       "      <th>3</th>\n",
       "      <td>id_3</td>\n",
       "      <td>London</td>\n",
       "      <td>['Italian', 'Mediterranean', 'European', 'Vege...</td>\n",
       "      <td>1669.0</td>\n",
       "      <td>$$$$</td>\n",
       "      <td>202.0</td>\n",
       "      <td>[['Most exquisite', 'Delicious and authentic']...</td>\n",
       "      <td>/Restaurant_Review-g186338-d680417-Reviews-Qui...</td>\n",
       "      <td>d680417</td>\n",
       "      <td>0</td>\n",
       "      <td>0.0</td>\n",
       "    </tr>\n",
       "    <tr>\n",
       "      <th>4</th>\n",
       "      <td>id_4</td>\n",
       "      <td>Bratislava</td>\n",
       "      <td>['Italian', 'Mediterranean', 'European', 'Seaf...</td>\n",
       "      <td>37.0</td>\n",
       "      <td>$$$$</td>\n",
       "      <td>162.0</td>\n",
       "      <td>[['Always the best in bratislava', 'Very good ...</td>\n",
       "      <td>/Restaurant_Review-g274924-d1112354-Reviews-Ma...</td>\n",
       "      <td>d1112354</td>\n",
       "      <td>0</td>\n",
       "      <td>0.0</td>\n",
       "    </tr>\n",
       "  </tbody>\n",
       "</table>\n",
       "</div>"
      ],
      "text/plain": [
       "  Restaurant_id        City  \\\n",
       "0          id_0       Paris   \n",
       "1          id_1    Helsinki   \n",
       "2          id_2   Edinburgh   \n",
       "3          id_3      London   \n",
       "4          id_4  Bratislava   \n",
       "\n",
       "                                       Cuisine Style  Ranking Price Range  \\\n",
       "0                                     ['Bar', 'Pub']  12963.0    $$ - $$$   \n",
       "1  ['European', 'Scandinavian', 'Gluten Free Opti...    106.0    $$ - $$$   \n",
       "2                            ['Vegetarian Friendly']    810.0    $$ - $$$   \n",
       "3  ['Italian', 'Mediterranean', 'European', 'Vege...   1669.0        $$$$   \n",
       "4  ['Italian', 'Mediterranean', 'European', 'Seaf...     37.0        $$$$   \n",
       "\n",
       "   Number of Reviews                                            Reviews  \\\n",
       "0                4.0                                           [[], []]   \n",
       "1               97.0  [['Very good reviews!', 'Fine dining in Hakani...   \n",
       "2               28.0  [['Better than the Links', 'Ivy Black'], ['12/...   \n",
       "3              202.0  [['Most exquisite', 'Delicious and authentic']...   \n",
       "4              162.0  [['Always the best in bratislava', 'Very good ...   \n",
       "\n",
       "                                              URL_TA      ID_TA  sample  \\\n",
       "0  /Restaurant_Review-g187147-d10746918-Reviews-L...  d10746918       0   \n",
       "1  /Restaurant_Review-g189934-d6674944-Reviews-Ra...   d6674944       0   \n",
       "2  /Restaurant_Review-g186525-d13129638-Reviews-B...  d13129638       0   \n",
       "3  /Restaurant_Review-g186338-d680417-Reviews-Qui...    d680417       0   \n",
       "4  /Restaurant_Review-g274924-d1112354-Reviews-Ma...   d1112354       0   \n",
       "\n",
       "   Rating  \n",
       "0     0.0  \n",
       "1     0.0  \n",
       "2     0.0  \n",
       "3     0.0  \n",
       "4     0.0  "
      ]
     },
     "execution_count": 12,
     "metadata": {},
     "output_type": "execute_result"
    }
   ],
   "source": [
    "data.head(5)"
   ]
  },
  {
   "cell_type": "code",
   "execution_count": 13,
   "metadata": {},
   "outputs": [
    {
     "data": {
      "text/plain": [
       "'/Restaurant_Review-g189158-d8758873-Reviews-Lisboa_City-Lisbon_Lisbon_District_Central_Portugal.html'"
      ]
     },
     "execution_count": 13,
     "metadata": {},
     "output_type": "execute_result"
    }
   ],
   "source": [
    "data.URL_TA[6]"
   ]
  },
  {
   "cell_type": "markdown",
   "execution_count": null,
   "metadata": {},
   "source": [
    "Как видим, большинство признаков у нас требует очистки и предварительной обработки."
   ]
  },
  {
   "cell_type": "markdown",
   "execution_count": null,
   "metadata": {},
   "source": [
    "# Cleaning and Prepping Data\n",
    "Обычно данные содержат в себе кучу мусора, который необходимо почистить, для того чтобы привести их в приемлемый формат. Чистка данных — это необходимый этап решения почти любой реальной задачи.   \n",
    "![](https://analyticsindiamag.com/wp-content/uploads/2018/01/data-cleaning.png)"
   ]
  },
  {
   "cell_type": "markdown",
   "execution_count": null,
   "metadata": {},
   "source": [
    "## 1. Обработка NAN \n",
    "У наличия пропусков могут быть разные причины, но пропуски нужно либо заполнить, либо исключить из набора полностью. Но с пропусками нужно быть внимательным, **даже отсутствие информации может быть важным признаком!**   \n",
    "По этому перед обработкой NAN лучше вынести информацию о наличии пропуска как отдельный признак "
   ]
  },
  {
   "cell_type": "code",
   "execution_count": 14,
   "metadata": {},
   "outputs": [],
   "source": [
    "# Для примера я возьму столбец Number of Reviews\n",
    "data['Number_of_Reviews_isNAN'] = pd.isna(data['Number of Reviews']).astype('uint8')"
   ]
  },
  {
   "cell_type": "code",
   "execution_count": 15,
   "metadata": {},
   "outputs": [
    {
     "data": {
      "text/plain": [
       "0        0\n",
       "1        0\n",
       "2        0\n",
       "3        0\n",
       "4        0\n",
       "        ..\n",
       "49995    0\n",
       "49996    0\n",
       "49997    0\n",
       "49998    0\n",
       "49999    0\n",
       "Name: Number_of_Reviews_isNAN, Length: 50000, dtype: uint8"
      ]
     },
     "execution_count": 15,
     "metadata": {},
     "output_type": "execute_result"
    }
   ],
   "source": [
    "data['Number_of_Reviews_isNAN']"
   ]
  },
  {
   "cell_type": "code",
   "execution_count": 16,
   "metadata": {},
   "outputs": [],
   "source": [
    "# Далее заполняем пропуски 0, вы можете попробовать заполнением средним или средним по городу и тд...\n",
    "data['Number of Reviews'].fillna(0, inplace=True)"
   ]
  },
  {
   "cell_type": "markdown",
   "execution_count": null,
   "metadata": {},
   "source": [
    "### 2. Обработка признаков\n",
    "Для начала посмотрим какие признаки у нас могут быть категориальными."
   ]
  },
  {
   "cell_type": "code",
   "execution_count": 17,
   "metadata": {},
   "outputs": [
    {
     "data": {
      "text/plain": [
       "Restaurant_id              13094\n",
       "City                          31\n",
       "Cuisine Style              10732\n",
       "Ranking                    12975\n",
       "Price Range                    4\n",
       "Number of Reviews           1574\n",
       "Reviews                    41858\n",
       "URL_TA                     49963\n",
       "ID_TA                      49963\n",
       "sample                         2\n",
       "Rating                        10\n",
       "Number_of_Reviews_isNAN        2\n",
       "dtype: int64"
      ]
     },
     "execution_count": 17,
     "metadata": {},
     "output_type": "execute_result"
    }
   ],
   "source": [
    "data.nunique(dropna=False)"
   ]
  },
  {
   "cell_type": "code",
   "execution_count": 18,
   "metadata": {},
   "outputs": [],
   "source": [
    "data['scity']=data['City']"
   ]
  },
  {
   "cell_type": "markdown",
   "execution_count": null,
   "metadata": {},
   "source": [
    "Какие признаки можно считать категориальными?"
   ]
  },
  {
   "cell_type": "markdown",
   "execution_count": null,
   "metadata": {},
   "source": [
    "Для кодирования категориальных признаков есть множество подходов:\n",
    "* Label Encoding\n",
    "* One-Hot Encoding\n",
    "* Target Encoding\n",
    "* Hashing\n",
    "\n",
    "Выбор кодирования зависит от признака и выбраной модели.\n",
    "Не будем сейчас сильно погружаться в эту тематику, давайте посмотрим лучше пример с One-Hot Encoding:\n",
    "![](https://i.imgur.com/mtimFxh.png)"
   ]
  },
  {
   "cell_type": "code",
   "execution_count": 19,
   "metadata": {},
   "outputs": [],
   "source": [
    "# для One-Hot Encoding в pandas есть готовая функция - get_dummies. Особенно радует параметр dummy_na\n",
    "#data = pd.get_dummies(data, columns=[ 'City',], dummy_na=True)"
   ]
  },
  {
   "cell_type": "code",
   "execution_count": null,
   "metadata": {},
   "outputs": [],
   "source": []
  },
  {
   "cell_type": "code",
   "execution_count": 20,
   "metadata": {},
   "outputs": [
    {
     "data": {
      "text/html": [
       "<div>\n",
       "<style scoped>\n",
       "    .dataframe tbody tr th:only-of-type {\n",
       "        vertical-align: middle;\n",
       "    }\n",
       "\n",
       "    .dataframe tbody tr th {\n",
       "        vertical-align: top;\n",
       "    }\n",
       "\n",
       "    .dataframe thead th {\n",
       "        text-align: right;\n",
       "    }\n",
       "</style>\n",
       "<table border=\"1\" class=\"dataframe\">\n",
       "  <thead>\n",
       "    <tr style=\"text-align: right;\">\n",
       "      <th></th>\n",
       "      <th>Restaurant_id</th>\n",
       "      <th>City</th>\n",
       "      <th>Cuisine Style</th>\n",
       "      <th>Ranking</th>\n",
       "      <th>Price Range</th>\n",
       "      <th>Number of Reviews</th>\n",
       "      <th>Reviews</th>\n",
       "      <th>URL_TA</th>\n",
       "      <th>ID_TA</th>\n",
       "      <th>sample</th>\n",
       "      <th>Rating</th>\n",
       "      <th>Number_of_Reviews_isNAN</th>\n",
       "      <th>scity</th>\n",
       "    </tr>\n",
       "  </thead>\n",
       "  <tbody>\n",
       "    <tr>\n",
       "      <th>48672</th>\n",
       "      <td>id_4861</td>\n",
       "      <td>London</td>\n",
       "      <td>['Cafe', 'Italian', 'British', 'Vegetarian Fri...</td>\n",
       "      <td>4870.0</td>\n",
       "      <td>$</td>\n",
       "      <td>31.0</td>\n",
       "      <td>[['Just a lunch', 'Excellent for breakfast!'],...</td>\n",
       "      <td>/Restaurant_Review-g186338-d4080516-Reviews-As...</td>\n",
       "      <td>d4080516</td>\n",
       "      <td>1</td>\n",
       "      <td>4.5</td>\n",
       "      <td>0</td>\n",
       "      <td>London</td>\n",
       "    </tr>\n",
       "    <tr>\n",
       "      <th>26454</th>\n",
       "      <td>id_4071</td>\n",
       "      <td>Paris</td>\n",
       "      <td>['French']</td>\n",
       "      <td>4072.0</td>\n",
       "      <td>$</td>\n",
       "      <td>61.0</td>\n",
       "      <td>[['As good as always - nothing changes', 'Grea...</td>\n",
       "      <td>/Restaurant_Review-g187147-d4432685-Reviews-Le...</td>\n",
       "      <td>d4432685</td>\n",
       "      <td>1</td>\n",
       "      <td>4.5</td>\n",
       "      <td>0</td>\n",
       "      <td>Paris</td>\n",
       "    </tr>\n",
       "    <tr>\n",
       "      <th>32552</th>\n",
       "      <td>id_104</td>\n",
       "      <td>Vienna</td>\n",
       "      <td>['Austrian', 'Vegetarian Friendly', 'Gluten Fr...</td>\n",
       "      <td>105.0</td>\n",
       "      <td>$$ - $$$</td>\n",
       "      <td>1852.0</td>\n",
       "      <td>[['Old Restaurant in Fleischmarkt', 'Great foo...</td>\n",
       "      <td>/Restaurant_Review-g190454-d1011415-Reviews-Gr...</td>\n",
       "      <td>d1011415</td>\n",
       "      <td>1</td>\n",
       "      <td>4.0</td>\n",
       "      <td>0</td>\n",
       "      <td>Vienna</td>\n",
       "    </tr>\n",
       "    <tr>\n",
       "      <th>35783</th>\n",
       "      <td>id_281</td>\n",
       "      <td>Prague</td>\n",
       "      <td>['Czech', 'Cafe', 'European', 'Vegetarian Frie...</td>\n",
       "      <td>282.0</td>\n",
       "      <td>$</td>\n",
       "      <td>65.0</td>\n",
       "      <td>[['Good coffee close to Letna', 'Favorite Cafe...</td>\n",
       "      <td>/Restaurant_Review-g274707-d9565372-Reviews-Ca...</td>\n",
       "      <td>d9565372</td>\n",
       "      <td>1</td>\n",
       "      <td>4.5</td>\n",
       "      <td>0</td>\n",
       "      <td>Prague</td>\n",
       "    </tr>\n",
       "    <tr>\n",
       "      <th>16484</th>\n",
       "      <td>id_2738</td>\n",
       "      <td>Vienna</td>\n",
       "      <td>NaN</td>\n",
       "      <td>2740.0</td>\n",
       "      <td>NaN</td>\n",
       "      <td>0.0</td>\n",
       "      <td>[[], []]</td>\n",
       "      <td>/Restaurant_Review-g190454-d8773673-Reviews-Do...</td>\n",
       "      <td>d8773673</td>\n",
       "      <td>1</td>\n",
       "      <td>4.0</td>\n",
       "      <td>1</td>\n",
       "      <td>Vienna</td>\n",
       "    </tr>\n",
       "  </tbody>\n",
       "</table>\n",
       "</div>"
      ],
      "text/plain": [
       "      Restaurant_id    City  \\\n",
       "48672       id_4861  London   \n",
       "26454       id_4071   Paris   \n",
       "32552        id_104  Vienna   \n",
       "35783        id_281  Prague   \n",
       "16484       id_2738  Vienna   \n",
       "\n",
       "                                           Cuisine Style  Ranking Price Range  \\\n",
       "48672  ['Cafe', 'Italian', 'British', 'Vegetarian Fri...   4870.0           $   \n",
       "26454                                         ['French']   4072.0           $   \n",
       "32552  ['Austrian', 'Vegetarian Friendly', 'Gluten Fr...    105.0    $$ - $$$   \n",
       "35783  ['Czech', 'Cafe', 'European', 'Vegetarian Frie...    282.0           $   \n",
       "16484                                                NaN   2740.0         NaN   \n",
       "\n",
       "       Number of Reviews                                            Reviews  \\\n",
       "48672               31.0  [['Just a lunch', 'Excellent for breakfast!'],...   \n",
       "26454               61.0  [['As good as always - nothing changes', 'Grea...   \n",
       "32552             1852.0  [['Old Restaurant in Fleischmarkt', 'Great foo...   \n",
       "35783               65.0  [['Good coffee close to Letna', 'Favorite Cafe...   \n",
       "16484                0.0                                           [[], []]   \n",
       "\n",
       "                                                  URL_TA     ID_TA  sample  \\\n",
       "48672  /Restaurant_Review-g186338-d4080516-Reviews-As...  d4080516       1   \n",
       "26454  /Restaurant_Review-g187147-d4432685-Reviews-Le...  d4432685       1   \n",
       "32552  /Restaurant_Review-g190454-d1011415-Reviews-Gr...  d1011415       1   \n",
       "35783  /Restaurant_Review-g274707-d9565372-Reviews-Ca...  d9565372       1   \n",
       "16484  /Restaurant_Review-g190454-d8773673-Reviews-Do...  d8773673       1   \n",
       "\n",
       "       Rating  Number_of_Reviews_isNAN   scity  \n",
       "48672     4.5                        0  London  \n",
       "26454     4.5                        0   Paris  \n",
       "32552     4.0                        0  Vienna  \n",
       "35783     4.5                        0  Prague  \n",
       "16484     4.0                        1  Vienna  "
      ]
     },
     "execution_count": 20,
     "metadata": {},
     "output_type": "execute_result"
    }
   ],
   "source": [
    "data.sample(5)"
   ]
  },
  {
   "cell_type": "markdown",
   "execution_count": null,
   "metadata": {},
   "source": [
    "#### Возьмем следующий признак \"Price Range\"."
   ]
  },
  {
   "cell_type": "code",
   "execution_count": 21,
   "metadata": {},
   "outputs": [
    {
     "data": {
      "text/plain": [
       "$$ - $$$    23041\n",
       "$            7816\n",
       "$$$$         1782\n",
       "Name: Price Range, dtype: int64"
      ]
     },
     "execution_count": 21,
     "metadata": {},
     "output_type": "execute_result"
    }
   ],
   "source": [
    "data['Price Range'].value_counts()"
   ]
  },
  {
   "cell_type": "markdown",
   "execution_count": null,
   "metadata": {},
   "source": [
    "По описанию 'Price Range' это - Цены в ресторане.  \n",
    "Их можно поставить по возрастанию (значит это не категориальный признак). А это значит, что их можно заменить последовательными числами, например 1,2,3  \n",
    "*Попробуйте сделать обработку этого признака уже самостоятельно!*"
   ]
  },
  {
   "cell_type": "code",
   "execution_count": 22,
   "metadata": {},
   "outputs": [
    {
     "data": {
      "text/html": [
       "<div>\n",
       "<style scoped>\n",
       "    .dataframe tbody tr th:only-of-type {\n",
       "        vertical-align: middle;\n",
       "    }\n",
       "\n",
       "    .dataframe tbody tr th {\n",
       "        vertical-align: top;\n",
       "    }\n",
       "\n",
       "    .dataframe thead th {\n",
       "        text-align: right;\n",
       "    }\n",
       "</style>\n",
       "<table border=\"1\" class=\"dataframe\">\n",
       "  <thead>\n",
       "    <tr style=\"text-align: right;\">\n",
       "      <th></th>\n",
       "      <th>Restaurant_id</th>\n",
       "      <th>City</th>\n",
       "      <th>Cuisine Style</th>\n",
       "      <th>Ranking</th>\n",
       "      <th>Price Range</th>\n",
       "      <th>Number of Reviews</th>\n",
       "      <th>Reviews</th>\n",
       "      <th>URL_TA</th>\n",
       "      <th>ID_TA</th>\n",
       "      <th>sample</th>\n",
       "      <th>Rating</th>\n",
       "      <th>Number_of_Reviews_isNAN</th>\n",
       "      <th>scity</th>\n",
       "    </tr>\n",
       "  </thead>\n",
       "  <tbody>\n",
       "    <tr>\n",
       "      <th>15137</th>\n",
       "      <td>id_3236</td>\n",
       "      <td>Barcelona</td>\n",
       "      <td>['Sushi', 'Asian']</td>\n",
       "      <td>3237.0</td>\n",
       "      <td>$$ - $$$</td>\n",
       "      <td>38.0</td>\n",
       "      <td>[['Very good and fast', 'Average'], ['12/10/20...</td>\n",
       "      <td>/Restaurant_Review-g187497-d5862836-Reviews-Kw...</td>\n",
       "      <td>d5862836</td>\n",
       "      <td>1</td>\n",
       "      <td>4.0</td>\n",
       "      <td>0</td>\n",
       "      <td>Barcelona</td>\n",
       "    </tr>\n",
       "    <tr>\n",
       "      <th>26450</th>\n",
       "      <td>id_788</td>\n",
       "      <td>London</td>\n",
       "      <td>['Italian', 'Cafe', 'Mediterranean', 'European...</td>\n",
       "      <td>789.0</td>\n",
       "      <td>$$ - $$$</td>\n",
       "      <td>262.0</td>\n",
       "      <td>[['Amazing food!', 'Good for breakfast &amp; Lunch...</td>\n",
       "      <td>/Restaurant_Review-g186338-d7053176-Reviews-Br...</td>\n",
       "      <td>d7053176</td>\n",
       "      <td>1</td>\n",
       "      <td>4.5</td>\n",
       "      <td>0</td>\n",
       "      <td>London</td>\n",
       "    </tr>\n",
       "    <tr>\n",
       "      <th>16891</th>\n",
       "      <td>id_15893</td>\n",
       "      <td>London</td>\n",
       "      <td>['British']</td>\n",
       "      <td>15905.0</td>\n",
       "      <td>$$ - $$$</td>\n",
       "      <td>2.0</td>\n",
       "      <td>[['Maria Turner', 'Good Pub'], ['10/19/2017', ...</td>\n",
       "      <td>/Restaurant_Review-g186338-d12547345-Reviews-P...</td>\n",
       "      <td>d12547345</td>\n",
       "      <td>1</td>\n",
       "      <td>5.0</td>\n",
       "      <td>0</td>\n",
       "      <td>London</td>\n",
       "    </tr>\n",
       "    <tr>\n",
       "      <th>26500</th>\n",
       "      <td>id_660</td>\n",
       "      <td>Hamburg</td>\n",
       "      <td>['Cafe', 'German', 'European', 'Vegetarian Fri...</td>\n",
       "      <td>661.0</td>\n",
       "      <td>$</td>\n",
       "      <td>48.0</td>\n",
       "      <td>[['Excellent coffee, good service', 'Disappoin...</td>\n",
       "      <td>/Restaurant_Review-g187331-d1039143-Reviews-Ca...</td>\n",
       "      <td>d1039143</td>\n",
       "      <td>1</td>\n",
       "      <td>4.0</td>\n",
       "      <td>0</td>\n",
       "      <td>Hamburg</td>\n",
       "    </tr>\n",
       "    <tr>\n",
       "      <th>43465</th>\n",
       "      <td>id_9634</td>\n",
       "      <td>London</td>\n",
       "      <td>['Chinese', 'Indian', 'Asian', 'Halal']</td>\n",
       "      <td>9643.0</td>\n",
       "      <td>$$ - $$$</td>\n",
       "      <td>143.0</td>\n",
       "      <td>[['Not worth it', \"Friend's birthday at Maida\"...</td>\n",
       "      <td>/Restaurant_Review-g186338-d953616-Reviews-Mai...</td>\n",
       "      <td>d953616</td>\n",
       "      <td>1</td>\n",
       "      <td>3.5</td>\n",
       "      <td>0</td>\n",
       "      <td>London</td>\n",
       "    </tr>\n",
       "  </tbody>\n",
       "</table>\n",
       "</div>"
      ],
      "text/plain": [
       "      Restaurant_id       City  \\\n",
       "15137       id_3236  Barcelona   \n",
       "26450        id_788     London   \n",
       "16891      id_15893     London   \n",
       "26500        id_660    Hamburg   \n",
       "43465       id_9634     London   \n",
       "\n",
       "                                           Cuisine Style  Ranking Price Range  \\\n",
       "15137                                 ['Sushi', 'Asian']   3237.0    $$ - $$$   \n",
       "26450  ['Italian', 'Cafe', 'Mediterranean', 'European...    789.0    $$ - $$$   \n",
       "16891                                        ['British']  15905.0    $$ - $$$   \n",
       "26500  ['Cafe', 'German', 'European', 'Vegetarian Fri...    661.0           $   \n",
       "43465            ['Chinese', 'Indian', 'Asian', 'Halal']   9643.0    $$ - $$$   \n",
       "\n",
       "       Number of Reviews                                            Reviews  \\\n",
       "15137               38.0  [['Very good and fast', 'Average'], ['12/10/20...   \n",
       "26450              262.0  [['Amazing food!', 'Good for breakfast & Lunch...   \n",
       "16891                2.0  [['Maria Turner', 'Good Pub'], ['10/19/2017', ...   \n",
       "26500               48.0  [['Excellent coffee, good service', 'Disappoin...   \n",
       "43465              143.0  [['Not worth it', \"Friend's birthday at Maida\"...   \n",
       "\n",
       "                                                  URL_TA      ID_TA  sample  \\\n",
       "15137  /Restaurant_Review-g187497-d5862836-Reviews-Kw...   d5862836       1   \n",
       "26450  /Restaurant_Review-g186338-d7053176-Reviews-Br...   d7053176       1   \n",
       "16891  /Restaurant_Review-g186338-d12547345-Reviews-P...  d12547345       1   \n",
       "26500  /Restaurant_Review-g187331-d1039143-Reviews-Ca...   d1039143       1   \n",
       "43465  /Restaurant_Review-g186338-d953616-Reviews-Mai...    d953616       1   \n",
       "\n",
       "       Rating  Number_of_Reviews_isNAN      scity  \n",
       "15137     4.0                        0  Barcelona  \n",
       "26450     4.5                        0     London  \n",
       "16891     5.0                        0     London  \n",
       "26500     4.0                        0    Hamburg  \n",
       "43465     3.5                        0     London  "
      ]
     },
     "execution_count": 22,
     "metadata": {},
     "output_type": "execute_result"
    }
   ],
   "source": [
    "# Ваша обработка 'Price Range'\n",
    "data.sample(5)"
   ]
  },
  {
   "cell_type": "markdown",
   "execution_count": null,
   "metadata": {},
   "source": [
    "> Для некоторых алгоритмов МЛ даже для не категориальных признаков можно применить One-Hot Encoding, и это может улучшить качество модели. Пробуйте разные подходы к кодированию признака - никто не знает заранее, что может взлететь."
   ]
  },
  {
   "cell_type": "markdown",
   "execution_count": null,
   "metadata": {},
   "source": [
    "### Обработать другие признаки вы должны самостоятельно!\n",
    "Для обработки других признаков вам возможно придется даже написать свою функцию, а может даже и не одну, но в этом и есть ваша практика в этом модуле!     \n",
    "Следуя подсказкам в модуле вы сможете более подробно узнать, как сделать эти приобразования."
   ]
  },
  {
   "cell_type": "code",
   "execution_count": 23,
   "metadata": {},
   "outputs": [],
   "source": [
    "# тут ваш код на обработку других признаков\n",
    "# ....."
   ]
  },
  {
   "cell_type": "markdown",
   "execution_count": null,
   "metadata": {},
   "source": [
    "![](https://cs10.pikabu.ru/post_img/2018/09/06/11/1536261023140110012.jpg)"
   ]
  },
  {
   "cell_type": "markdown",
   "execution_count": null,
   "metadata": {},
   "source": [
    "# EDA \n",
    "[Exploratory Data Analysis](https://ru.wikipedia.org/wiki/Разведочный_анализ_данных) - Анализ данных\n",
    "На этом этапе мы строим графики, ищем закономерности, аномалии, выбросы или связи между признаками.\n",
    "В общем цель этого этапа понять, что эти данные могут нам дать и как признаки могут быть взаимосвязаны между собой.\n",
    "Понимание изначальных признаков позволит сгенерировать новые, более сильные и, тем самым, сделать нашу модель лучше.\n",
    "![](https://miro.medium.com/max/2598/1*RXdMb7Uk6mGqWqPguHULaQ.png)"
   ]
  },
  {
   "cell_type": "markdown",
   "execution_count": null,
   "metadata": {},
   "source": [
    "### Посмотрим распределение признака"
   ]
  },
  {
   "cell_type": "code",
   "execution_count": 24,
   "metadata": {},
   "outputs": [
    {
     "data": {
      "text/plain": [
       "<matplotlib.axes._subplots.AxesSubplot at 0x7f34abee0978>"
      ]
     },
     "execution_count": 24,
     "metadata": {},
     "output_type": "execute_result"
    },
    {
     "data": {
      "image/png": "[encoded data removed]",
      "text/plain": [
       "<Figure size 720x504 with 1 Axes>"
      ]
     },
     "metadata": {
      "needs_background": "light"
     },
     "output_type": "display_data"
    }
   ],
   "source": [
    "plt.rcParams['figure.figsize'] = (10,7)\n",
    "df_train['Ranking'].hist(bins=100)"
   ]
  },
  {
   "cell_type": "markdown",
   "execution_count": null,
   "metadata": {},
   "source": [
    "У нас много ресторанов, которые не дотягивают и до 2500 места в своем городе, а что там по городам?"
   ]
  },
  {
   "cell_type": "code",
   "execution_count": null,
   "metadata": {},
   "outputs": [],
   "source": []
  },
  {
   "cell_type": "code",
   "execution_count": 25,
   "metadata": {},
   "outputs": [
    {
     "data": {
      "text/html": [
       "<div>\n",
       "<style scoped>\n",
       "    .dataframe tbody tr th:only-of-type {\n",
       "        vertical-align: middle;\n",
       "    }\n",
       "\n",
       "    .dataframe tbody tr th {\n",
       "        vertical-align: top;\n",
       "    }\n",
       "\n",
       "    .dataframe thead th {\n",
       "        text-align: right;\n",
       "    }\n",
       "</style>\n",
       "<table border=\"1\" class=\"dataframe\">\n",
       "  <thead>\n",
       "    <tr style=\"text-align: right;\">\n",
       "      <th></th>\n",
       "      <th>Restaurant_id</th>\n",
       "      <th>City</th>\n",
       "      <th>Cuisine Style</th>\n",
       "      <th>Ranking</th>\n",
       "      <th>Price Range</th>\n",
       "      <th>Number of Reviews</th>\n",
       "      <th>Reviews</th>\n",
       "      <th>URL_TA</th>\n",
       "      <th>ID_TA</th>\n",
       "      <th>sample</th>\n",
       "      <th>Rating</th>\n",
       "      <th>Number_of_Reviews_isNAN</th>\n",
       "      <th>scity</th>\n",
       "    </tr>\n",
       "  </thead>\n",
       "  <tbody>\n",
       "    <tr>\n",
       "      <th>5050</th>\n",
       "      <td>id_5050</td>\n",
       "      <td>Zurich</td>\n",
       "      <td>['Swiss', 'European', 'Central European']</td>\n",
       "      <td>898.0</td>\n",
       "      <td>$$ - $$$</td>\n",
       "      <td>56.0</td>\n",
       "      <td>[['A good place for a quick lunch', 'Smoking a...</td>\n",
       "      <td>/Restaurant_Review-g188113-d1817085-Reviews-Ho...</td>\n",
       "      <td>d1817085</td>\n",
       "      <td>0</td>\n",
       "      <td>0.0</td>\n",
       "      <td>0</td>\n",
       "      <td>Zurich</td>\n",
       "    </tr>\n",
       "    <tr>\n",
       "      <th>28241</th>\n",
       "      <td>id_1090</td>\n",
       "      <td>Hamburg</td>\n",
       "      <td>['Pizza', 'Turkish']</td>\n",
       "      <td>1092.0</td>\n",
       "      <td>NaN</td>\n",
       "      <td>6.0</td>\n",
       "      <td>[['Very tasty pizza and pasta', 'Delicious and...</td>\n",
       "      <td>/Restaurant_Review-g187331-d7033551-Reviews-Pi...</td>\n",
       "      <td>d7033551</td>\n",
       "      <td>1</td>\n",
       "      <td>5.0</td>\n",
       "      <td>0</td>\n",
       "      <td>Hamburg</td>\n",
       "    </tr>\n",
       "    <tr>\n",
       "      <th>17878</th>\n",
       "      <td>id_2984</td>\n",
       "      <td>Brussels</td>\n",
       "      <td>NaN</td>\n",
       "      <td>2985.0</td>\n",
       "      <td>NaN</td>\n",
       "      <td>85.0</td>\n",
       "      <td>[['Total Rip Off!!', 'Rip Off Scam! Stay Away!...</td>\n",
       "      <td>/Restaurant_Review-g188644-d946743-Reviews-Au_...</td>\n",
       "      <td>d946743</td>\n",
       "      <td>1</td>\n",
       "      <td>1.5</td>\n",
       "      <td>0</td>\n",
       "      <td>Brussels</td>\n",
       "    </tr>\n",
       "    <tr>\n",
       "      <th>14782</th>\n",
       "      <td>id_700</td>\n",
       "      <td>Geneva</td>\n",
       "      <td>['French', 'Soups']</td>\n",
       "      <td>703.0</td>\n",
       "      <td>NaN</td>\n",
       "      <td>6.0</td>\n",
       "      <td>[['Light meal or juice'], ['04/10/2017']]</td>\n",
       "      <td>/Restaurant_Review-g188057-d8139611-Reviews-En...</td>\n",
       "      <td>d8139611</td>\n",
       "      <td>1</td>\n",
       "      <td>4.5</td>\n",
       "      <td>0</td>\n",
       "      <td>Geneva</td>\n",
       "    </tr>\n",
       "    <tr>\n",
       "      <th>12456</th>\n",
       "      <td>id_13865</td>\n",
       "      <td>Paris</td>\n",
       "      <td>NaN</td>\n",
       "      <td>13867.0</td>\n",
       "      <td>NaN</td>\n",
       "      <td>26.0</td>\n",
       "      <td>[['Good food, good price'], ['09/28/2016']]</td>\n",
       "      <td>/Restaurant_Review-g187147-d10140372-Reviews-N...</td>\n",
       "      <td>d10140372</td>\n",
       "      <td>1</td>\n",
       "      <td>1.5</td>\n",
       "      <td>0</td>\n",
       "      <td>Paris</td>\n",
       "    </tr>\n",
       "  </tbody>\n",
       "</table>\n",
       "</div>"
      ],
      "text/plain": [
       "      Restaurant_id      City                              Cuisine Style  \\\n",
       "5050        id_5050    Zurich  ['Swiss', 'European', 'Central European']   \n",
       "28241       id_1090   Hamburg                       ['Pizza', 'Turkish']   \n",
       "17878       id_2984  Brussels                                        NaN   \n",
       "14782        id_700    Geneva                        ['French', 'Soups']   \n",
       "12456      id_13865     Paris                                        NaN   \n",
       "\n",
       "       Ranking Price Range  Number of Reviews  \\\n",
       "5050     898.0    $$ - $$$               56.0   \n",
       "28241   1092.0         NaN                6.0   \n",
       "17878   2985.0         NaN               85.0   \n",
       "14782    703.0         NaN                6.0   \n",
       "12456  13867.0         NaN               26.0   \n",
       "\n",
       "                                                 Reviews  \\\n",
       "5050   [['A good place for a quick lunch', 'Smoking a...   \n",
       "28241  [['Very tasty pizza and pasta', 'Delicious and...   \n",
       "17878  [['Total Rip Off!!', 'Rip Off Scam! Stay Away!...   \n",
       "14782          [['Light meal or juice'], ['04/10/2017']]   \n",
       "12456        [['Good food, good price'], ['09/28/2016']]   \n",
       "\n",
       "                                                  URL_TA      ID_TA  sample  \\\n",
       "5050   /Restaurant_Review-g188113-d1817085-Reviews-Ho...   d1817085       0   \n",
       "28241  /Restaurant_Review-g187331-d7033551-Reviews-Pi...   d7033551       1   \n",
       "17878  /Restaurant_Review-g188644-d946743-Reviews-Au_...    d946743       1   \n",
       "14782  /Restaurant_Review-g188057-d8139611-Reviews-En...   d8139611       1   \n",
       "12456  /Restaurant_Review-g187147-d10140372-Reviews-N...  d10140372       1   \n",
       "\n",
       "       Rating  Number_of_Reviews_isNAN     scity  \n",
       "5050      0.0                        0    Zurich  \n",
       "28241     5.0                        0   Hamburg  \n",
       "17878     1.5                        0  Brussels  \n",
       "14782     4.5                        0    Geneva  \n",
       "12456     1.5                        0     Paris  "
      ]
     },
     "execution_count": 25,
     "metadata": {},
     "output_type": "execute_result"
    }
   ],
   "source": [
    "data.sample(5)"
   ]
  },
  {
   "cell_type": "code",
   "execution_count": 26,
   "metadata": {},
   "outputs": [
    {
     "data": {
      "text/plain": [
       "<matplotlib.axes._subplots.AxesSubplot at 0x7f34abd4e9e8>"
      ]
     },
     "execution_count": 26,
     "metadata": {},
     "output_type": "execute_result"
    },
    {
     "data": {
      "image/png": "[encoded data removed]",
      "text/plain": [
       "<Figure size 720x504 with 1 Axes>"
      ]
     },
     "metadata": {
      "needs_background": "light"
     },
     "output_type": "display_data"
    }
   ],
   "source": [
    "df_train['City'].value_counts(ascending=True).plot(kind='barh')"
   ]
  },
  {
   "cell_type": "markdown",
   "execution_count": null,
   "metadata": {},
   "source": [
    "А кто-то говорил, что французы любят поесть=) Посмотрим, как изменится распределение в большом городе:"
   ]
  },
  {
   "cell_type": "code",
   "execution_count": 27,
   "metadata": {},
   "outputs": [
    {
     "data": {
      "text/plain": [
       "<matplotlib.axes._subplots.AxesSubplot at 0x7f34abcda470>"
      ]
     },
     "execution_count": 27,
     "metadata": {},
     "output_type": "execute_result"
    },
    {
     "data": {
      "image/png": "[encoded data removed]",
      "text/plain": [
       "<Figure size 720x504 with 1 Axes>"
      ]
     },
     "metadata": {
      "needs_background": "light"
     },
     "output_type": "display_data"
    }
   ],
   "source": [
    "df_train['Ranking'][df_train['City'] =='London'].hist(bins=100)"
   ]
  },
  {
   "cell_type": "code",
   "execution_count": 28,
   "metadata": {},
   "outputs": [
    {
     "data": {
      "image/png": "[encoded data removed]",
      "text/plain": [
       "<Figure size 720x504 with 1 Axes>"
      ]
     },
     "metadata": {
      "needs_background": "light"
     },
     "output_type": "display_data"
    }
   ],
   "source": [
    "# посмотрим на топ 10 городов\n",
    "for x in (df_train['City'].value_counts())[0:10].index:\n",
    "    df_train['Ranking'][df_train['City'] == x].hist(bins=100)\n",
    "plt.show()"
   ]
  },
  {
   "cell_type": "markdown",
   "execution_count": null,
   "metadata": {},
   "source": [
    "Получается, что Ranking имеет нормальное распределение, просто в больших городах больше ресторанов, из-за мы этого имеем смещение.\n",
    "\n",
    ">Подумайте как из этого можно сделать признак для вашей модели. Я покажу вам пример, как визуализация помогает находить взаимосвязи. А далее действуйте без подсказок =) \n"
   ]
  },
  {
   "cell_type": "markdown",
   "execution_count": null,
   "metadata": {},
   "source": [
    "Можно создать признак показывающий относительный размер города, а так же отнормировать ранг относитеьно города(размера)"
   ]
  },
  {
   "cell_type": "code",
   "execution_count": 29,
   "metadata": {},
   "outputs": [
    {
     "data": {
      "text/html": [
       "<div>\n",
       "<style scoped>\n",
       "    .dataframe tbody tr th:only-of-type {\n",
       "        vertical-align: middle;\n",
       "    }\n",
       "\n",
       "    .dataframe tbody tr th {\n",
       "        vertical-align: top;\n",
       "    }\n",
       "\n",
       "    .dataframe thead th {\n",
       "        text-align: right;\n",
       "    }\n",
       "</style>\n",
       "<table border=\"1\" class=\"dataframe\">\n",
       "  <thead>\n",
       "    <tr style=\"text-align: right;\">\n",
       "      <th></th>\n",
       "      <th>Restaurant_id</th>\n",
       "      <th>City</th>\n",
       "      <th>Cuisine Style</th>\n",
       "      <th>Ranking</th>\n",
       "      <th>Price Range</th>\n",
       "      <th>Number of Reviews</th>\n",
       "      <th>Reviews</th>\n",
       "      <th>URL_TA</th>\n",
       "      <th>ID_TA</th>\n",
       "      <th>sample</th>\n",
       "      <th>Rating</th>\n",
       "      <th>Number_of_Reviews_isNAN</th>\n",
       "      <th>scity</th>\n",
       "    </tr>\n",
       "  </thead>\n",
       "  <tbody>\n",
       "    <tr>\n",
       "      <th>8162</th>\n",
       "      <td>id_8162</td>\n",
       "      <td>Paris</td>\n",
       "      <td>NaN</td>\n",
       "      <td>8508.0</td>\n",
       "      <td>NaN</td>\n",
       "      <td>17.0</td>\n",
       "      <td>[['Médiocre', \"Loved Momen'Tea!\"], ['11/06/201...</td>\n",
       "      <td>/Restaurant_Review-g187147-d11733790-Reviews-M...</td>\n",
       "      <td>d11733790</td>\n",
       "      <td>0</td>\n",
       "      <td>0.0</td>\n",
       "      <td>0</td>\n",
       "      <td>Paris</td>\n",
       "    </tr>\n",
       "    <tr>\n",
       "      <th>46624</th>\n",
       "      <td>id_2862</td>\n",
       "      <td>Berlin</td>\n",
       "      <td>['European']</td>\n",
       "      <td>2864.0</td>\n",
       "      <td>NaN</td>\n",
       "      <td>2.0</td>\n",
       "      <td>[['Great place for a night out in Berlin'], ['...</td>\n",
       "      <td>/Restaurant_Review-g187323-d12925533-Reviews-B...</td>\n",
       "      <td>d12925533</td>\n",
       "      <td>1</td>\n",
       "      <td>5.0</td>\n",
       "      <td>0</td>\n",
       "      <td>Berlin</td>\n",
       "    </tr>\n",
       "    <tr>\n",
       "      <th>5062</th>\n",
       "      <td>id_5062</td>\n",
       "      <td>Amsterdam</td>\n",
       "      <td>['European', 'Dutch', 'Vegetarian Friendly', '...</td>\n",
       "      <td>1190.0</td>\n",
       "      <td>$$ - $$$</td>\n",
       "      <td>62.0</td>\n",
       "      <td>[['Little gem, Off the beaten track', 'Perfect...</td>\n",
       "      <td>/Restaurant_Review-g188590-d3676397-Reviews-Va...</td>\n",
       "      <td>d3676397</td>\n",
       "      <td>0</td>\n",
       "      <td>0.0</td>\n",
       "      <td>0</td>\n",
       "      <td>Amsterdam</td>\n",
       "    </tr>\n",
       "    <tr>\n",
       "      <th>32295</th>\n",
       "      <td>id_1728</td>\n",
       "      <td>Berlin</td>\n",
       "      <td>NaN</td>\n",
       "      <td>1730.0</td>\n",
       "      <td>NaN</td>\n",
       "      <td>11.0</td>\n",
       "      <td>[['Cereal-iously good', 'Killer cereal!!'], ['...</td>\n",
       "      <td>/Restaurant_Review-g187323-d12161521-Reviews-F...</td>\n",
       "      <td>d12161521</td>\n",
       "      <td>1</td>\n",
       "      <td>4.5</td>\n",
       "      <td>0</td>\n",
       "      <td>Berlin</td>\n",
       "    </tr>\n",
       "    <tr>\n",
       "      <th>29350</th>\n",
       "      <td>id_830</td>\n",
       "      <td>Copenhagen</td>\n",
       "      <td>['Italian', 'European', 'Pizza']</td>\n",
       "      <td>831.0</td>\n",
       "      <td>$$ - $$$</td>\n",
       "      <td>55.0</td>\n",
       "      <td>[['3 good,start with food, service, price', 'A...</td>\n",
       "      <td>/Restaurant_Review-g189541-d4275093-Reviews-Re...</td>\n",
       "      <td>d4275093</td>\n",
       "      <td>1</td>\n",
       "      <td>4.0</td>\n",
       "      <td>0</td>\n",
       "      <td>Copenhagen</td>\n",
       "    </tr>\n",
       "  </tbody>\n",
       "</table>\n",
       "</div>"
      ],
      "text/plain": [
       "      Restaurant_id        City  \\\n",
       "8162        id_8162       Paris   \n",
       "46624       id_2862      Berlin   \n",
       "5062        id_5062   Amsterdam   \n",
       "32295       id_1728      Berlin   \n",
       "29350        id_830  Copenhagen   \n",
       "\n",
       "                                           Cuisine Style  Ranking Price Range  \\\n",
       "8162                                                 NaN   8508.0         NaN   \n",
       "46624                                       ['European']   2864.0         NaN   \n",
       "5062   ['European', 'Dutch', 'Vegetarian Friendly', '...   1190.0    $$ - $$$   \n",
       "32295                                                NaN   1730.0         NaN   \n",
       "29350                   ['Italian', 'European', 'Pizza']    831.0    $$ - $$$   \n",
       "\n",
       "       Number of Reviews                                            Reviews  \\\n",
       "8162                17.0  [['Médiocre', \"Loved Momen'Tea!\"], ['11/06/201...   \n",
       "46624                2.0  [['Great place for a night out in Berlin'], ['...   \n",
       "5062                62.0  [['Little gem, Off the beaten track', 'Perfect...   \n",
       "32295               11.0  [['Cereal-iously good', 'Killer cereal!!'], ['...   \n",
       "29350               55.0  [['3 good,start with food, service, price', 'A...   \n",
       "\n",
       "                                                  URL_TA      ID_TA  sample  \\\n",
       "8162   /Restaurant_Review-g187147-d11733790-Reviews-M...  d11733790       0   \n",
       "46624  /Restaurant_Review-g187323-d12925533-Reviews-B...  d12925533       1   \n",
       "5062   /Restaurant_Review-g188590-d3676397-Reviews-Va...   d3676397       0   \n",
       "32295  /Restaurant_Review-g187323-d12161521-Reviews-F...  d12161521       1   \n",
       "29350  /Restaurant_Review-g189541-d4275093-Reviews-Re...   d4275093       1   \n",
       "\n",
       "       Rating  Number_of_Reviews_isNAN       scity  \n",
       "8162      0.0                        0       Paris  \n",
       "46624     5.0                        0      Berlin  \n",
       "5062      0.0                        0   Amsterdam  \n",
       "32295     4.5                        0      Berlin  \n",
       "29350     4.0                        0  Copenhagen  "
      ]
     },
     "execution_count": 29,
     "metadata": {},
     "output_type": "execute_result"
    }
   ],
   "source": [
    "data.sample(5)"
   ]
  },
  {
   "cell_type": "code",
   "execution_count": null,
   "metadata": {},
   "outputs": [],
   "source": []
  },
  {
   "cell_type": "code",
   "execution_count": 30,
   "metadata": {},
   "outputs": [
    {
     "data": {
      "text/html": [
       "<div>\n",
       "<style scoped>\n",
       "    .dataframe tbody tr th:only-of-type {\n",
       "        vertical-align: middle;\n",
       "    }\n",
       "\n",
       "    .dataframe tbody tr th {\n",
       "        vertical-align: top;\n",
       "    }\n",
       "\n",
       "    .dataframe thead th {\n",
       "        text-align: right;\n",
       "    }\n",
       "</style>\n",
       "<table border=\"1\" class=\"dataframe\">\n",
       "  <thead>\n",
       "    <tr style=\"text-align: right;\">\n",
       "      <th></th>\n",
       "      <th>Restaurant_id</th>\n",
       "      <th>City</th>\n",
       "      <th>Cuisine Style</th>\n",
       "      <th>Ranking</th>\n",
       "      <th>Price Range</th>\n",
       "      <th>Number of Reviews</th>\n",
       "      <th>Reviews</th>\n",
       "      <th>URL_TA</th>\n",
       "      <th>ID_TA</th>\n",
       "      <th>sample</th>\n",
       "      <th>Rating</th>\n",
       "      <th>Number_of_Reviews_isNAN</th>\n",
       "      <th>scity</th>\n",
       "    </tr>\n",
       "  </thead>\n",
       "  <tbody>\n",
       "    <tr>\n",
       "      <th>39936</th>\n",
       "      <td>id_2291</td>\n",
       "      <td>Milan</td>\n",
       "      <td>['Italian', 'Vegetarian Friendly', 'Vegan Opti...</td>\n",
       "      <td>2293.0</td>\n",
       "      <td>$</td>\n",
       "      <td>96.0</td>\n",
       "      <td>[['Tasty', 'Disappointing food'], ['05/13/2016...</td>\n",
       "      <td>/Restaurant_Review-g187849-d2441920-Reviews-Ro...</td>\n",
       "      <td>d2441920</td>\n",
       "      <td>1</td>\n",
       "      <td>4.0</td>\n",
       "      <td>0</td>\n",
       "      <td>Milan</td>\n",
       "    </tr>\n",
       "    <tr>\n",
       "      <th>28877</th>\n",
       "      <td>id_6769</td>\n",
       "      <td>Paris</td>\n",
       "      <td>['French', 'American']</td>\n",
       "      <td>6770.0</td>\n",
       "      <td>$$ - $$$</td>\n",
       "      <td>86.0</td>\n",
       "      <td>[['Alternative bar for drinks', 'Great place f...</td>\n",
       "      <td>/Restaurant_Review-g187147-d3187248-Reviews-3_...</td>\n",
       "      <td>d3187248</td>\n",
       "      <td>1</td>\n",
       "      <td>3.5</td>\n",
       "      <td>0</td>\n",
       "      <td>Paris</td>\n",
       "    </tr>\n",
       "    <tr>\n",
       "      <th>29108</th>\n",
       "      <td>id_5790</td>\n",
       "      <td>Paris</td>\n",
       "      <td>['French', 'European']</td>\n",
       "      <td>5791.0</td>\n",
       "      <td>$$ - $$$</td>\n",
       "      <td>111.0</td>\n",
       "      <td>[['Cute casual cafe!', 'Quiet place for lunch'...</td>\n",
       "      <td>/Restaurant_Review-g187147-d2692744-Reviews-Au...</td>\n",
       "      <td>d2692744</td>\n",
       "      <td>1</td>\n",
       "      <td>3.5</td>\n",
       "      <td>0</td>\n",
       "      <td>Paris</td>\n",
       "    </tr>\n",
       "    <tr>\n",
       "      <th>15511</th>\n",
       "      <td>id_5046</td>\n",
       "      <td>Barcelona</td>\n",
       "      <td>NaN</td>\n",
       "      <td>5047.0</td>\n",
       "      <td>NaN</td>\n",
       "      <td>26.0</td>\n",
       "      <td>[['Poor service, acceptable bakes', 'Try the p...</td>\n",
       "      <td>/Restaurant_Review-g187497-d8017782-Reviews-Fo...</td>\n",
       "      <td>d8017782</td>\n",
       "      <td>1</td>\n",
       "      <td>4.0</td>\n",
       "      <td>0</td>\n",
       "      <td>Barcelona</td>\n",
       "    </tr>\n",
       "    <tr>\n",
       "      <th>21678</th>\n",
       "      <td>id_4347</td>\n",
       "      <td>Barcelona</td>\n",
       "      <td>['International']</td>\n",
       "      <td>4348.0</td>\n",
       "      <td>$$ - $$$</td>\n",
       "      <td>0.0</td>\n",
       "      <td>[[], []]</td>\n",
       "      <td>/Restaurant_Review-g187497-d2061142-Reviews-Ka...</td>\n",
       "      <td>d2061142</td>\n",
       "      <td>1</td>\n",
       "      <td>5.0</td>\n",
       "      <td>1</td>\n",
       "      <td>Barcelona</td>\n",
       "    </tr>\n",
       "  </tbody>\n",
       "</table>\n",
       "</div>"
      ],
      "text/plain": [
       "      Restaurant_id       City  \\\n",
       "39936       id_2291      Milan   \n",
       "28877       id_6769      Paris   \n",
       "29108       id_5790      Paris   \n",
       "15511       id_5046  Barcelona   \n",
       "21678       id_4347  Barcelona   \n",
       "\n",
       "                                           Cuisine Style  Ranking Price Range  \\\n",
       "39936  ['Italian', 'Vegetarian Friendly', 'Vegan Opti...   2293.0           $   \n",
       "28877                             ['French', 'American']   6770.0    $$ - $$$   \n",
       "29108                             ['French', 'European']   5791.0    $$ - $$$   \n",
       "15511                                                NaN   5047.0         NaN   \n",
       "21678                                  ['International']   4348.0    $$ - $$$   \n",
       "\n",
       "       Number of Reviews                                            Reviews  \\\n",
       "39936               96.0  [['Tasty', 'Disappointing food'], ['05/13/2016...   \n",
       "28877               86.0  [['Alternative bar for drinks', 'Great place f...   \n",
       "29108              111.0  [['Cute casual cafe!', 'Quiet place for lunch'...   \n",
       "15511               26.0  [['Poor service, acceptable bakes', 'Try the p...   \n",
       "21678                0.0                                           [[], []]   \n",
       "\n",
       "                                                  URL_TA     ID_TA  sample  \\\n",
       "39936  /Restaurant_Review-g187849-d2441920-Reviews-Ro...  d2441920       1   \n",
       "28877  /Restaurant_Review-g187147-d3187248-Reviews-3_...  d3187248       1   \n",
       "29108  /Restaurant_Review-g187147-d2692744-Reviews-Au...  d2692744       1   \n",
       "15511  /Restaurant_Review-g187497-d8017782-Reviews-Fo...  d8017782       1   \n",
       "21678  /Restaurant_Review-g187497-d2061142-Reviews-Ka...  d2061142       1   \n",
       "\n",
       "       Rating  Number_of_Reviews_isNAN      scity  \n",
       "39936     4.0                        0      Milan  \n",
       "28877     3.5                        0      Paris  \n",
       "29108     3.5                        0      Paris  \n",
       "15511     4.0                        0  Barcelona  \n",
       "21678     5.0                        1  Barcelona  "
      ]
     },
     "execution_count": 30,
     "metadata": {},
     "output_type": "execute_result"
    }
   ],
   "source": [
    "data.sample(5)"
   ]
  },
  {
   "cell_type": "markdown",
   "execution_count": null,
   "metadata": {},
   "source": [
    "### Посмотрим распределение целевой переменной"
   ]
  },
  {
   "cell_type": "code",
   "execution_count": 31,
   "metadata": {},
   "outputs": [
    {
     "data": {
      "text/plain": [
       "<matplotlib.axes._subplots.AxesSubplot at 0x7f3497de7f28>"
      ]
     },
     "execution_count": 31,
     "metadata": {},
     "output_type": "execute_result"
    },
    {
     "data": {
      "image/png": "[encoded data removed]",
      "text/plain": [
       "<Figure size 720x504 with 1 Axes>"
      ]
     },
     "metadata": {
      "needs_background": "light"
     },
     "output_type": "display_data"
    }
   ],
   "source": [
    "df_train['Rating'].value_counts(ascending=True).plot(kind='barh')"
   ]
  },
  {
   "cell_type": "markdown",
   "execution_count": null,
   "metadata": {},
   "source": [
    "### Посмотрим распределение целевой переменной относительно признака"
   ]
  },
  {
   "cell_type": "code",
   "execution_count": 32,
   "metadata": {},
   "outputs": [
    {
     "data": {
      "text/plain": [
       "<matplotlib.axes._subplots.AxesSubplot at 0x7f3497cc2208>"
      ]
     },
     "execution_count": 32,
     "metadata": {},
     "output_type": "execute_result"
    },
    {
     "data": {
      "image/png": "[encoded data removed]",
      "text/plain": [
       "<Figure size 720x504 with 1 Axes>"
      ]
     },
     "metadata": {
      "needs_background": "light"
     },
     "output_type": "display_data"
    }
   ],
   "source": [
    "df_train['Ranking'][df_train['Rating'] == 5].hist(bins=100)"
   ]
  },
  {
   "cell_type": "code",
   "execution_count": 33,
   "metadata": {},
   "outputs": [
    {
     "data": {
      "text/plain": [
       "<matplotlib.axes._subplots.AxesSubplot at 0x7f3495b22860>"
      ]
     },
     "execution_count": 33,
     "metadata": {},
     "output_type": "execute_result"
    },
    {
     "data": {
      "image/png": "[encoded data removed]",
      "text/plain": [
       "<Figure size 720x504 with 1 Axes>"
      ]
     },
     "metadata": {
      "needs_background": "light"
     },
     "output_type": "display_data"
    }
   ],
   "source": [
    "df_train['Ranking'][df_train['Rating'] < 4].hist(bins=100)"
   ]
  },
  {
   "cell_type": "markdown",
   "execution_count": null,
   "metadata": {},
   "source": [
    "### И один из моих любимых - [корреляция признаков](https://ru.wikipedia.org/wiki/Корреляция)\n",
    "На этом графике уже сейчас вы сможете заметить, как признаки связаны между собой и с целевой переменной."
   ]
  },
  {
   "cell_type": "code",
   "execution_count": 34,
   "metadata": {},
   "outputs": [
    {
     "data": {
      "text/plain": [
       "<matplotlib.axes._subplots.AxesSubplot at 0x7f34959bb470>"
      ]
     },
     "execution_count": 34,
     "metadata": {},
     "output_type": "execute_result"
    },
    {
     "data": {
      "image/png": "[encoded data removed]",
      "text/plain": [
       "<Figure size 1080x720 with 2 Axes>"
      ]
     },
     "metadata": {
      "needs_background": "light"
     },
     "output_type": "display_data"
    }
   ],
   "source": [
    "plt.rcParams['figure.figsize'] = (15,10)\n",
    "sns.heatmap(data.drop(['sample'], axis=1).corr(),)"
   ]
  },
  {
   "cell_type": "markdown",
   "execution_count": null,
   "metadata": {},
   "source": [
    "Вообще благодаря визуализации в этом датасете можно узнать много интересных фактов, например:\n",
    "* где больше Пицерий в Мадриде или Лондоне?\n",
    "* в каком городе кухня ресторанов более разнообразна?\n",
    "\n",
    "придумайте свои вопрос и найдите на него ответ в данных)"
   ]
  },
  {
   "cell_type": "code",
   "execution_count": 35,
   "metadata": {},
   "outputs": [
    {
     "data": {
      "text/html": [
       "<div>\n",
       "<style scoped>\n",
       "    .dataframe tbody tr th:only-of-type {\n",
       "        vertical-align: middle;\n",
       "    }\n",
       "\n",
       "    .dataframe tbody tr th {\n",
       "        vertical-align: top;\n",
       "    }\n",
       "\n",
       "    .dataframe thead th {\n",
       "        text-align: right;\n",
       "    }\n",
       "</style>\n",
       "<table border=\"1\" class=\"dataframe\">\n",
       "  <thead>\n",
       "    <tr style=\"text-align: right;\">\n",
       "      <th></th>\n",
       "      <th>Restaurant_id</th>\n",
       "      <th>City</th>\n",
       "      <th>Cuisine Style</th>\n",
       "      <th>Ranking</th>\n",
       "      <th>Price Range</th>\n",
       "      <th>Number of Reviews</th>\n",
       "      <th>Reviews</th>\n",
       "      <th>URL_TA</th>\n",
       "      <th>ID_TA</th>\n",
       "      <th>sample</th>\n",
       "      <th>Rating</th>\n",
       "      <th>Number_of_Reviews_isNAN</th>\n",
       "      <th>scity</th>\n",
       "    </tr>\n",
       "  </thead>\n",
       "  <tbody>\n",
       "    <tr>\n",
       "      <th>23938</th>\n",
       "      <td>id_10093</td>\n",
       "      <td>London</td>\n",
       "      <td>NaN</td>\n",
       "      <td>10102.0</td>\n",
       "      <td>NaN</td>\n",
       "      <td>4.0</td>\n",
       "      <td>[['This Restaurant has been sold and has ceas....</td>\n",
       "      <td>/Restaurant_Review-g186338-d11703089-Reviews-S...</td>\n",
       "      <td>d11703089</td>\n",
       "      <td>1</td>\n",
       "      <td>4.5</td>\n",
       "      <td>0</td>\n",
       "      <td>London</td>\n",
       "    </tr>\n",
       "    <tr>\n",
       "      <th>48469</th>\n",
       "      <td>id_784</td>\n",
       "      <td>Helsinki</td>\n",
       "      <td>NaN</td>\n",
       "      <td>785.0</td>\n",
       "      <td>NaN</td>\n",
       "      <td>5.0</td>\n",
       "      <td>[['Fastfood with taste', 'Closed? Not that I k...</td>\n",
       "      <td>/Restaurant_Review-g189934-d814224-Reviews-Sop...</td>\n",
       "      <td>d814224</td>\n",
       "      <td>1</td>\n",
       "      <td>4.0</td>\n",
       "      <td>0</td>\n",
       "      <td>Helsinki</td>\n",
       "    </tr>\n",
       "    <tr>\n",
       "      <th>28262</th>\n",
       "      <td>id_1065</td>\n",
       "      <td>Prague</td>\n",
       "      <td>['Fast Food']</td>\n",
       "      <td>1066.0</td>\n",
       "      <td>$</td>\n",
       "      <td>50.0</td>\n",
       "      <td>[['Good, but not many vegetarian options', 'Ta...</td>\n",
       "      <td>/Restaurant_Review-g274707-d7383725-Reviews-Ba...</td>\n",
       "      <td>d7383725</td>\n",
       "      <td>1</td>\n",
       "      <td>4.0</td>\n",
       "      <td>0</td>\n",
       "      <td>Prague</td>\n",
       "    </tr>\n",
       "    <tr>\n",
       "      <th>4302</th>\n",
       "      <td>id_4302</td>\n",
       "      <td>Paris</td>\n",
       "      <td>['Lebanese', 'Mediterranean']</td>\n",
       "      <td>9320.0</td>\n",
       "      <td>NaN</td>\n",
       "      <td>2.0</td>\n",
       "      <td>[['Excellent'], ['09/23/2008']]</td>\n",
       "      <td>/Restaurant_Review-g187147-d786628-Reviews-Kan...</td>\n",
       "      <td>d786628</td>\n",
       "      <td>0</td>\n",
       "      <td>0.0</td>\n",
       "      <td>0</td>\n",
       "      <td>Paris</td>\n",
       "    </tr>\n",
       "    <tr>\n",
       "      <th>30606</th>\n",
       "      <td>id_3261</td>\n",
       "      <td>Paris</td>\n",
       "      <td>['Spanish']</td>\n",
       "      <td>3262.0</td>\n",
       "      <td>$$ - $$$</td>\n",
       "      <td>98.0</td>\n",
       "      <td>[['Superb restaurant', 'good but expensive'], ...</td>\n",
       "      <td>/Restaurant_Review-g187147-d4261032-Reviews-Ch...</td>\n",
       "      <td>d4261032</td>\n",
       "      <td>1</td>\n",
       "      <td>4.0</td>\n",
       "      <td>0</td>\n",
       "      <td>Paris</td>\n",
       "    </tr>\n",
       "  </tbody>\n",
       "</table>\n",
       "</div>"
      ],
      "text/plain": [
       "      Restaurant_id      City                  Cuisine Style  Ranking  \\\n",
       "23938      id_10093    London                            NaN  10102.0   \n",
       "48469        id_784  Helsinki                            NaN    785.0   \n",
       "28262       id_1065    Prague                  ['Fast Food']   1066.0   \n",
       "4302        id_4302     Paris  ['Lebanese', 'Mediterranean']   9320.0   \n",
       "30606       id_3261     Paris                    ['Spanish']   3262.0   \n",
       "\n",
       "      Price Range  Number of Reviews  \\\n",
       "23938         NaN                4.0   \n",
       "48469         NaN                5.0   \n",
       "28262           $               50.0   \n",
       "4302          NaN                2.0   \n",
       "30606    $$ - $$$               98.0   \n",
       "\n",
       "                                                 Reviews  \\\n",
       "23938  [['This Restaurant has been sold and has ceas....   \n",
       "48469  [['Fastfood with taste', 'Closed? Not that I k...   \n",
       "28262  [['Good, but not many vegetarian options', 'Ta...   \n",
       "4302                     [['Excellent'], ['09/23/2008']]   \n",
       "30606  [['Superb restaurant', 'good but expensive'], ...   \n",
       "\n",
       "                                                  URL_TA      ID_TA  sample  \\\n",
       "23938  /Restaurant_Review-g186338-d11703089-Reviews-S...  d11703089       1   \n",
       "48469  /Restaurant_Review-g189934-d814224-Reviews-Sop...    d814224       1   \n",
       "28262  /Restaurant_Review-g274707-d7383725-Reviews-Ba...   d7383725       1   \n",
       "4302   /Restaurant_Review-g187147-d786628-Reviews-Kan...    d786628       0   \n",
       "30606  /Restaurant_Review-g187147-d4261032-Reviews-Ch...   d4261032       1   \n",
       "\n",
       "       Rating  Number_of_Reviews_isNAN     scity  \n",
       "23938     4.5                        0    London  \n",
       "48469     4.0                        0  Helsinki  \n",
       "28262     4.0                        0    Prague  \n",
       "4302      0.0                        0     Paris  \n",
       "30606     4.0                        0     Paris  "
      ]
     },
     "execution_count": 35,
     "metadata": {},
     "output_type": "execute_result"
    }
   ],
   "source": [
    "data.sample(5)"
   ]
  },
  {
   "cell_type": "markdown",
   "execution_count": null,
   "metadata": {},
   "source": [
    "# Data Preprocessing\n",
    "Теперь, для удобства и воспроизводимости кода, завернем всю обработку в одну большую функцию."
   ]
  },
  {
   "cell_type": "code",
   "execution_count": 36,
   "metadata": {},
   "outputs": [
    {
     "name": "stdout",
     "output_type": "stream",
     "text": [
      "<class 'pandas.core.frame.DataFrame'>\n",
      "RangeIndex: 50000 entries, 0 to 49999\n",
      "Data columns (total 11 columns):\n",
      "Restaurant_id        50000 non-null object\n",
      "City                 50000 non-null object\n",
      "Cuisine Style        38410 non-null object\n",
      "Ranking              50000 non-null float64\n",
      "Price Range          32639 non-null object\n",
      "Number of Reviews    46800 non-null float64\n",
      "Reviews              49998 non-null object\n",
      "URL_TA               50000 non-null object\n",
      "ID_TA                50000 non-null object\n",
      "sample               50000 non-null int64\n",
      "Rating               50000 non-null float64\n",
      "dtypes: float64(3), int64(1), object(7)\n",
      "memory usage: 4.2+ MB\n"
     ]
    }
   ],
   "source": [
    "# на всякий случай, заново подгружаем данные\n",
    "df_train = pd.read_csv(DATA_DIR+'/main_task.csv')\n",
    "df_test = pd.read_csv(DATA_DIR+'/kaggle_task.csv')\n",
    "df_train['sample'] = 1 # помечаем где у нас трейн\n",
    "df_test['sample'] = 0 # помечаем где у нас тест\n",
    "df_test['Rating'] = 0 # в тесте у нас нет значения Rating, мы его должны предсказать, по этому пока просто заполняем нулями\n",
    "\n",
    "data = df_test.append(df_train, sort=False).reset_index(drop=True) # объединяем\n",
    "data.info()"
   ]
  },
  {
   "cell_type": "code",
   "execution_count": 37,
   "metadata": {},
   "outputs": [],
   "source": [
    "##########\n",
    "data['Number_of_Reviews_isNAN'] = pd.isna(data['Number of Reviews']).astype('uint8')\n",
    "data['Number of Reviews'].fillna(0, inplace=True)\n"
   ]
  },
  {
   "cell_type": "code",
   "execution_count": 38,
   "metadata": {},
   "outputs": [],
   "source": [
    "###### добавим относительный размер города основываясь на максимальном рейтинге в каждом городе\n",
    "gk=data.groupby('City')  \n",
    "ss=gk.Ranking.max()\n",
    "def rrr(nam):\n",
    "    return ss[nam]\n",
    "\n",
    "data['rcity']=data['City'].apply(lambda x: rrr(x))"
   ]
  },
  {
   "cell_type": "code",
   "execution_count": 39,
   "metadata": {},
   "outputs": [
    {
     "data": {
      "image/png": "[encoded data removed]",
      "text/plain": [
       "<Figure size 1080x720 with 1 Axes>"
      ]
     },
     "metadata": {
      "needs_background": "light"
     },
     "output_type": "display_data"
    }
   ],
   "source": [
    "# отнормируем ранги относително города\n",
    "data['normrank'] = data['Ranking']/data['rcity']\n",
    "\n",
    "# посмотрим на топ 10 городов\n",
    "for x in (data['City'].value_counts())[0:10].index:\n",
    "    data['normrank'][data['City'] == x].hist(bins=100)\n",
    "plt.show()\n",
    " "
   ]
  },
  {
   "cell_type": "code",
   "execution_count": 40,
   "metadata": {},
   "outputs": [
    {
     "data": {
      "text/plain": [
       "<matplotlib.axes._subplots.AxesSubplot at 0x7f348d4272e8>"
      ]
     },
     "execution_count": 40,
     "metadata": {},
     "output_type": "execute_result"
    },
    {
     "data": {
      "image/png": "[encoded data removed]",
      "text/plain": [
       "<Figure size 1080x720 with 1 Axes>"
      ]
     },
     "metadata": {
      "needs_background": "light"
     },
     "output_type": "display_data"
    }
   ],
   "source": [
    "#и на ранг в целом\n",
    "data['normrank'].hist(bins=100)\n",
    "#ранг стал равномерным во всем сете"
   ]
  },
  {
   "cell_type": "code",
   "execution_count": 41,
   "metadata": {},
   "outputs": [],
   "source": [
    "#преобразуем данные сосписком кухонь из строки в список\n",
    "data.rename(columns={'Cuisine Style': 'CuisineStyle'}, inplace=True) \n",
    "data.CuisineStyle = data.CuisineStyle.apply(lambda x: str(x).replace(\n",
    "    '[', '').replace(']', '').replace('\\'', '').replace(' ', '').split(','))"
   ]
  },
  {
   "cell_type": "code",
   "execution_count": 42,
   "metadata": {},
   "outputs": [
    {
     "data": {
      "text/plain": [
       "'Bar'"
      ]
     },
     "execution_count": 42,
     "metadata": {},
     "output_type": "execute_result"
    }
   ],
   "source": [
    "CuisineStyle = data['CuisineStyle'].tolist()\n",
    "#создадим множество всех тпов кухонь\n",
    "Cuisine = set()  # создаём пустое множество для хранения уникальных значений \n",
    "for i in CuisineStyle:  # начинаем перебор\n",
    "    for j in i:\n",
    "        Cuisine.add(j) # добавляем название типа кухни к множеству\n",
    "\n",
    "# добавим столбец  количества типов кухонь\n",
    "data['CuisineLen'] = data.CuisineStyle.apply(lambda x: len(x))\n",
    "data['CuisineStyle'][0][0]"
   ]
  },
  {
   "cell_type": "code",
   "execution_count": 43,
   "metadata": {},
   "outputs": [
    {
     "data": {
      "text/html": [
       "<div>\n",
       "<style scoped>\n",
       "    .dataframe tbody tr th:only-of-type {\n",
       "        vertical-align: middle;\n",
       "    }\n",
       "\n",
       "    .dataframe tbody tr th {\n",
       "        vertical-align: top;\n",
       "    }\n",
       "\n",
       "    .dataframe thead th {\n",
       "        text-align: right;\n",
       "    }\n",
       "</style>\n",
       "<table border=\"1\" class=\"dataframe\">\n",
       "  <thead>\n",
       "    <tr style=\"text-align: right;\">\n",
       "      <th></th>\n",
       "      <th>Restaurant_id</th>\n",
       "      <th>City</th>\n",
       "      <th>CuisineStyle</th>\n",
       "      <th>Ranking</th>\n",
       "      <th>Price Range</th>\n",
       "      <th>Number of Reviews</th>\n",
       "      <th>Reviews</th>\n",
       "      <th>URL_TA</th>\n",
       "      <th>ID_TA</th>\n",
       "      <th>sample</th>\n",
       "      <th>...</th>\n",
       "      <th>Steakhouse</th>\n",
       "      <th>French</th>\n",
       "      <th>NativeAmerican</th>\n",
       "      <th>VeganOptions</th>\n",
       "      <th>Vietnamese</th>\n",
       "      <th>MiddleEastern</th>\n",
       "      <th>Contemporary</th>\n",
       "      <th>CentralAsian</th>\n",
       "      <th>Filipino</th>\n",
       "      <th>Mongolian</th>\n",
       "    </tr>\n",
       "  </thead>\n",
       "  <tbody>\n",
       "    <tr>\n",
       "      <th>0</th>\n",
       "      <td>id_0</td>\n",
       "      <td>Paris</td>\n",
       "      <td>[Bar, Pub]</td>\n",
       "      <td>12963.0</td>\n",
       "      <td>$$ - $$$</td>\n",
       "      <td>4.0</td>\n",
       "      <td>[[], []]</td>\n",
       "      <td>/Restaurant_Review-g187147-d10746918-Reviews-L...</td>\n",
       "      <td>d10746918</td>\n",
       "      <td>0</td>\n",
       "      <td>...</td>\n",
       "      <td>0</td>\n",
       "      <td>0</td>\n",
       "      <td>0</td>\n",
       "      <td>0</td>\n",
       "      <td>0</td>\n",
       "      <td>0</td>\n",
       "      <td>0</td>\n",
       "      <td>0</td>\n",
       "      <td>0</td>\n",
       "      <td>0</td>\n",
       "    </tr>\n",
       "    <tr>\n",
       "      <th>1</th>\n",
       "      <td>id_1</td>\n",
       "      <td>Helsinki</td>\n",
       "      <td>[European, Scandinavian, GlutenFreeOptions, Ve...</td>\n",
       "      <td>106.0</td>\n",
       "      <td>$$ - $$$</td>\n",
       "      <td>97.0</td>\n",
       "      <td>[['Very good reviews!', 'Fine dining in Hakani...</td>\n",
       "      <td>/Restaurant_Review-g189934-d6674944-Reviews-Ra...</td>\n",
       "      <td>d6674944</td>\n",
       "      <td>0</td>\n",
       "      <td>...</td>\n",
       "      <td>0</td>\n",
       "      <td>0</td>\n",
       "      <td>0</td>\n",
       "      <td>1</td>\n",
       "      <td>0</td>\n",
       "      <td>0</td>\n",
       "      <td>0</td>\n",
       "      <td>0</td>\n",
       "      <td>0</td>\n",
       "      <td>0</td>\n",
       "    </tr>\n",
       "  </tbody>\n",
       "</table>\n",
       "<p>2 rows × 141 columns</p>\n",
       "</div>"
      ],
      "text/plain": [
       "  Restaurant_id      City                                       CuisineStyle  \\\n",
       "0          id_0     Paris                                         [Bar, Pub]   \n",
       "1          id_1  Helsinki  [European, Scandinavian, GlutenFreeOptions, Ve...   \n",
       "\n",
       "   Ranking Price Range  Number of Reviews  \\\n",
       "0  12963.0    $$ - $$$                4.0   \n",
       "1    106.0    $$ - $$$               97.0   \n",
       "\n",
       "                                             Reviews  \\\n",
       "0                                           [[], []]   \n",
       "1  [['Very good reviews!', 'Fine dining in Hakani...   \n",
       "\n",
       "                                              URL_TA      ID_TA  sample  ...  \\\n",
       "0  /Restaurant_Review-g187147-d10746918-Reviews-L...  d10746918       0  ...   \n",
       "1  /Restaurant_Review-g189934-d6674944-Reviews-Ra...   d6674944       0  ...   \n",
       "\n",
       "   Steakhouse  French  NativeAmerican  VeganOptions  Vietnamese  \\\n",
       "0           0       0               0             0           0   \n",
       "1           0       0               0             1           0   \n",
       "\n",
       "   MiddleEastern  Contemporary  CentralAsian  Filipino  Mongolian  \n",
       "0              0             0             0         0          0  \n",
       "1              0             0             0         0          0  \n",
       "\n",
       "[2 rows x 141 columns]"
      ]
     },
     "execution_count": 43,
     "metadata": {},
     "output_type": "execute_result"
    }
   ],
   "source": [
    "####### добавим признаки соответсвующие каждой кухне\n",
    "def find_item(cell):\n",
    "    if item in cell:\n",
    "        return 1\n",
    "    return 0\n",
    "#dm = pd.DataFrame()\n",
    "for item in Cuisine:\n",
    "    data[item] = data['CuisineStyle'].apply(find_item)\n",
    "data.head(2)"
   ]
  },
  {
   "cell_type": "code",
   "execution_count": 44,
   "metadata": {},
   "outputs": [],
   "source": [
    "#заполним nan\n",
    "data['Reviews'].fillna('[], []', inplace=True)"
   ]
  },
  {
   "cell_type": "code",
   "execution_count": 45,
   "metadata": {},
   "outputs": [],
   "source": [
    "# выделим каждый одзыв е его дату в отдельные столбцы\n",
    "\n",
    "data['Review'] = data.Reviews.apply(lambda x: str(x).split('],')[0])\n",
    "data['date'] = data.Reviews.apply(lambda x: str(x).split('],')[1])\n",
    "data['Review1'] = data.Review.apply(lambda x: str(x).split('\\',')[0] if len(x) > 2 else '')\n",
    "data['Review2'] = data.Review.apply(lambda x: str(x).split('\\',')[1] if len(str(x).split('\\',')) > 1 else '')\n",
    "data['date1'] = data.date.apply(lambda x: str(x).split('\\',')[0] if len(x) > 4 else '')\n",
    "data['date2'] = data.date.apply(lambda x: str(x).split('\\',')[1] if len(str(x).split('\\',')) > 1 else '')\n",
    "data = data.drop(['Review', 'date'], axis=1)  # удалим лишние столбцы\n",
    "data['Review1'] = data['Review1'].apply(lambda x: str(x).replace(\n",
    "    '[', '').replace(']', '').replace('\\'', ''))\n",
    "data['Review2'] = data['Review2'].apply(lambda x: str(x).replace(\n",
    "    '[', '').replace(']', '').replace('\\'', ''))\n",
    "data['date1'] = data['date1'].apply(lambda x: str(x).replace(\n",
    "    '[', '').replace(']', '').replace('\\'', '').replace(' ', ''))\n",
    "data['date2'] = data['date2'].apply(lambda x: str(x).replace(\n",
    "    '[', '').replace(']', '').replace('\\'', '').replace(' ', ''))\n"
   ]
  },
  {
   "cell_type": "code",
   "execution_count": 46,
   "metadata": {},
   "outputs": [],
   "source": [
    "#посчитаем количество слов в отзывах\n",
    "#data['lenReview1']=data['Review1'].apply(lambda x: len(x.split(' ')) if x!='' else 0)\n",
    "#data['lenReview2']=data['Review2'].apply(lambda x: len(x.split(' ')) if x!='' else 0)\n",
    "\n",
    "#модель ухудшилась"
   ]
  },
  {
   "cell_type": "code",
   "execution_count": 47,
   "metadata": {},
   "outputs": [],
   "source": [
    "#попробуем количество ! в отзывах\n",
    "\n",
    "data['lenReview1'] = data['Review1'].apply(lambda x: x.count('!'))\n",
    "data['lenReview2'] = data['Review2'].apply(lambda x: x.count('!'))"
   ]
  },
  {
   "cell_type": "code",
   "execution_count": 48,
   "metadata": {},
   "outputs": [],
   "source": [
    "#результат лучше если учитывать сумму а не два отдельных признака\n",
    "data['lenW']=data['lenReview1']+data['lenReview2']\n",
    "data= data.drop(['lenReview1','lenReview2'], axis = 1) #удалим лишние столбцы\n"
   ]
  },
  {
   "cell_type": "code",
   "execution_count": 49,
   "metadata": {},
   "outputs": [],
   "source": [
    "#посчитаем длинну отзывов\n",
    "#data['lenReview1'] = data['Review1'].apply(lambda x: len(x))\n",
    "#data['lenReview2'] = data['Review2'].apply(lambda x: len(x))\n",
    "#результат хуже"
   ]
  },
  {
   "cell_type": "code",
   "execution_count": 50,
   "metadata": {},
   "outputs": [],
   "source": [
    "def ddd(x,y):\n",
    "    if x !=''and y !='':\n",
    "        return 2\n",
    "    else:\n",
    "        if x !=''or y !='':\n",
    "            return 1\n",
    "        else:\n",
    "            return 0    \n",
    "# посчитаем количество опубликованых отзывов чтобы учесть их если в столбце Number of Reviews стоит  0\n",
    "data['countt'] = data.apply(lambda x: ddd(x.Review1, x.Review2),axis=1)"
   ]
  },
  {
   "cell_type": "code",
   "execution_count": 51,
   "metadata": {},
   "outputs": [],
   "source": [
    "def ddd2(x,y):\n",
    "    if x == 0:\n",
    "        return y\n",
    "    else:\n",
    "        return x\n",
    "\n",
    " #если отзывы все таки есть учтем их\n",
    "data.rename(columns={'Number of Reviews': 'Number_of_Reviews'}, inplace=True)\n",
    "data['countt'] = data['countt'].apply(lambda x: float(x))\n",
    "data['Number_of_Reviews'] =data.apply(lambda x: ddd2(x.Number_of_Reviews, x.countt), axis=1)\n",
    "data = data.drop(['countt'], axis = 1) #удалим лишние столбцы"
   ]
  },
  {
   "cell_type": "code",
   "execution_count": 52,
   "metadata": {},
   "outputs": [],
   "source": [
    "#pattern = re.compile('\\d+/\\d+/\\d+')\n",
    "#data['date1o']= data['date1'].apply(lambda x: pattern.search(x))\n",
    "#data[data['date1o'].isna()==True]"
   ]
  },
  {
   "cell_type": "code",
   "execution_count": null,
   "metadata": {},
   "outputs": [],
   "source": []
  },
  {
   "cell_type": "code",
   "execution_count": 53,
   "metadata": {},
   "outputs": [
    {
     "name": "stderr",
     "output_type": "stream",
     "text": [
      "/opt/conda/lib/python3.6/site-packages/ipykernel_launcher.py:5: SettingWithCopyWarning: \n",
      "A value is trying to be set on a copy of a slice from a DataFrame\n",
      "\n",
      "See the caveats in the documentation: http://pandas.pydata.org/pandas-docs/stable/user_guide/indexing.html#returning-a-view-versus-a-copy\n",
      "  \"\"\"\n"
     ]
    }
   ],
   "source": [
    "# заполним пропуски в датах\n",
    "data['date1'] = data['date1'].apply(lambda x: x if x!='' else '01/01/2985' ) \n",
    "data['date2'] = data['date2'].apply(lambda x: x if x!='' else '01/01/2970' ) \n",
    "\n",
    "data['date1'][38330]='01/01/2985' # одна строка в датасете имеет некорректную дату\n",
    "\n",
    "#переведем даты в формат datetime\n",
    "data['date1']= data['date1'].apply(lambda x: datetime.strptime(x, '%m/%d/%Y' ))\n",
    "data['date2']= data['date2'].apply(lambda x: datetime.strptime(x, '%m/%d/%Y' ))"
   ]
  },
  {
   "cell_type": "code",
   "execution_count": 54,
   "metadata": {},
   "outputs": [],
   "source": [
    "#добавим столбец с разницей в днях между двумя последними отзывами. пустые значения заменим средним 142\n",
    "#максимальная разница в днях 3207.0 примерно 9 лет\n",
    "\n",
    "data['days']=data['date1']-data['date2']"
   ]
  },
  {
   "cell_type": "code",
   "execution_count": 55,
   "metadata": {},
   "outputs": [],
   "source": [
    "data['days'].max()    #все что больше 5479 нет одной или двух дат  = пустые значения заменим \n",
    "data['days'] = data['days'].apply(lambda x: x.days if x.days < 5400 and x.days > 0   else 3297)  \n",
    "#mean - 145.98557721320378  median - 66.0   max - 3296\n",
    "# заменим пустые на максимальное значение"
   ]
  },
  {
   "cell_type": "code",
   "execution_count": 56,
   "metadata": {},
   "outputs": [],
   "source": [
    "#добавим признак показывающий что этих данных не было в сете\n",
    "data['days_is_nan'] = data['days'].apply(lambda x: 0 if x<3297 else 1)"
   ]
  },
  {
   "cell_type": "markdown",
   "execution_count": null,
   "metadata": {},
   "source": [
    "Лучший результат если заменить пропуски на максимальное количество деней. Можно предположить что пропущенные данные это худший вариант."
   ]
  },
  {
   "cell_type": "code",
   "execution_count": 57,
   "metadata": {},
   "outputs": [
    {
     "data": {
      "text/plain": [
       "3297"
      ]
     },
     "execution_count": 57,
     "metadata": {},
     "output_type": "execute_result"
    }
   ],
   "source": [
    "data[data['days']>0]['days'].max()"
   ]
  },
  {
   "cell_type": "code",
   "execution_count": 58,
   "metadata": {},
   "outputs": [
    {
     "data": {
      "text/plain": [
       "<matplotlib.axes._subplots.AxesSubplot at 0x7f348a95cc50>"
      ]
     },
     "execution_count": 58,
     "metadata": {},
     "output_type": "execute_result"
    },
    {
     "data": {
      "image/png": "[encoded data removed]",
      "text/plain": [
       "<Figure size 1080x720 with 1 Axes>"
      ]
     },
     "metadata": {
      "needs_background": "light"
     },
     "output_type": "display_data"
    }
   ],
   "source": [
    "data[data['days']>0]['days'].hist(bins=100)"
   ]
  },
  {
   "cell_type": "code",
   "execution_count": 59,
   "metadata": {},
   "outputs": [],
   "source": [
    "#data['days']=data['days']**(1/3)\n",
    "#data[data['days']>0]['days'].hist(bins=100)"
   ]
  },
  {
   "cell_type": "code",
   "execution_count": 60,
   "metadata": {},
   "outputs": [],
   "source": [
    "#добавим столбец с временем до последнего отзыва\n",
    "def ddd3(x,y):\n",
    "    if x > y:\n",
    "        return x\n",
    "    else:\n",
    "        return y\n",
    "# поместим в date1 старшую дату\n",
    "data['date1'] = data.apply(lambda x: ddd3(x.date1, x.date2), axis=1)\n",
    "data['days2'] = datetime(2020, 9, 9, 0, 0)-data['date1'] #09.09.2020\n"
   ]
  },
  {
   "cell_type": "code",
   "execution_count": 61,
   "metadata": {},
   "outputs": [],
   "source": [
    "#добавим признак указывающий на отсутсвие данных \n",
    "#и замним строки в которых не было данных\n",
    "#data['days2_is_nan'] = data['days2'].apply(lambda x: 0 if x.days > 0   else 1) #ухудшает модель\n",
    "data['days2'] = data['days2'].apply(lambda x: x.days if x.days > 0   else 1061) #max =4538 mean =1159.516420383925median=1062.0\n"
   ]
  },
  {
   "cell_type": "markdown",
   "execution_count": null,
   "metadata": {},
   "source": [
    "лучший вариант если пропущенные данные заменить медианой"
   ]
  },
  {
   "cell_type": "code",
   "execution_count": 62,
   "metadata": {},
   "outputs": [
    {
     "data": {
      "text/plain": [
       "<matplotlib.axes._subplots.AxesSubplot at 0x7f348a95c780>"
      ]
     },
     "execution_count": 62,
     "metadata": {},
     "output_type": "execute_result"
    },
    {
     "data": {
      "image/png": "[encoded data removed]",
      "text/plain": [
       "<Figure size 1080x720 with 1 Axes>"
      ]
     },
     "metadata": {
      "needs_background": "light"
     },
     "output_type": "display_data"
    }
   ],
   "source": [
    "data[data['days2']>0]['days2'].hist(bins=100)"
   ]
  },
  {
   "cell_type": "code",
   "execution_count": 63,
   "metadata": {},
   "outputs": [
    {
     "data": {
      "text/plain": [
       "1132.33574"
      ]
     },
     "execution_count": 63,
     "metadata": {},
     "output_type": "execute_result"
    }
   ],
   "source": [
    "data[data['days2']>0]['days2'].mean()"
   ]
  },
  {
   "cell_type": "code",
   "execution_count": 64,
   "metadata": {},
   "outputs": [],
   "source": [
    "data['Price Range'].fillna('0', inplace=True)\n",
    "data['Price Range'].value_counts()\n",
    "\n",
    "#посмотрим на распределение цен\n",
    "def get_boxplot(column,score):\n",
    "    fig, ax = plt.subplots(figsize = (14, 4))\n",
    "    sns.boxplot(x=column, y=score, \n",
    "                data=data.loc[data.loc[:, column].isin(data.loc[:, column].value_counts().index[:10])],\n",
    "               ax=ax)\n",
    "    plt.xticks(rotation=45)\n",
    "    ax.set_title('Boxplot for ' + column)\n",
    "    plt.show()  \n",
    "# заменим значения\n",
    "def prrepl(stri):\n",
    "    if stri =='$':\n",
    "        return 1\n",
    "    else:\n",
    "        if stri =='$$ - $$$':\n",
    "            return 2\n",
    "        else:\n",
    "            if stri =='$$$$':\n",
    "                return 3\n",
    "            else:\n",
    "                return 0               \n",
    "            \n",
    "data['Price Range'] = data['Price Range'].apply(prrepl)"
   ]
  },
  {
   "cell_type": "code",
   "execution_count": 65,
   "metadata": {},
   "outputs": [
    {
     "data": {
      "image/png": "[encoded data removed]",
      "text/plain": [
       "<Figure size 1008x288 with 1 Axes>"
      ]
     },
     "metadata": {
      "needs_background": "light"
     },
     "output_type": "display_data"
    }
   ],
   "source": [
    "get_boxplot('Price Range','Rating') #MAE: 0.204844375\n"
   ]
  },
  {
   "cell_type": "code",
   "execution_count": 66,
   "metadata": {},
   "outputs": [
    {
     "data": {
      "image/png": "[encoded data removed]",
      "text/plain": [
       "<Figure size 1008x288 with 1 Axes>"
      ]
     },
     "metadata": {
      "needs_background": "light"
     },
     "output_type": "display_data"
    }
   ],
   "source": [
    "get_boxplot('Price Range','normrank')"
   ]
  },
  {
   "cell_type": "code",
   "execution_count": 67,
   "metadata": {},
   "outputs": [],
   "source": [
    "#добавим признак выделяющий отсутсвующие данные\n",
    "#data['Price_Range_nan'] = data['Price Range'].apply(lambda x: 1 if x==0 else 0)\n",
    "#ухудшает модель"
   ]
  },
  {
   "cell_type": "markdown",
   "execution_count": null,
   "metadata": {},
   "source": [
    "Пропущенных данных очень много и нельзя сказать однозначно что они пренадлежат какому то из существующих множеств.\n",
    "Скорее всего будет необходимо выделить их в отделюную категорию.\n",
    "\n",
    "Лучший результат если не использовать думмми переменную по признаку Price Range вообще. Проверил если поместить пропуски в нижнюю категорию = 0,\n",
    "верхнюю категорию = 4, в седианное значение = 2. Лучший результат при добавлении отдельную нижнюю категорию "
   ]
  },
  {
   "cell_type": "markdown",
   "execution_count": null,
   "metadata": {},
   "source": [
    "Попробуем добавить внешние данные. Признак столицы, население городов, площади, бюджеты стран в которых расположен городо."
   ]
  },
  {
   "cell_type": "code",
   "execution_count": null,
   "metadata": {},
   "outputs": [],
   "source": []
  },
  {
   "cell_type": "code",
   "execution_count": 68,
   "metadata": {},
   "outputs": [
    {
     "data": {
      "text/plain": [
       "1"
      ]
     },
     "execution_count": 68,
     "metadata": {},
     "output_type": "execute_result"
    }
   ],
   "source": [
    "inp ={}\n",
    "cc = data['City'].value_counts().index.tolist()\n",
    "inp[cc[0]]=[1,8908081, 1572, 716584]\n",
    "inp[cc[1]]=[1,2148327, 105.4, 357749]\n",
    "inp[cc[2]]=[1,3266126, 607, 492400]\n",
    "inp[cc[3]]=[0,1636762, 101.3, 492400]\n",
    "inp[cc[4]]=[1,3644826, 891.68, 397000]\n",
    "inp[cc[5]]=[0,1378689, 181.67, 884400]\n",
    "inp[cc[6]]=[1,2870500, 1287.36, 884400]\n",
    "inp[cc[7]]=[1,1301132, 500, 83620]\n",
    "inp[cc[8]]=[1,505526, 100.05, 92990]\n",
    "inp[cc[9]]=[1,1897491 , 414.7, 461000]\n",
    "inp[cc[10]]=[1,872757 , 219.4, 344800]\n",
    "inp[cc[11]]=[1,179277 , 32.61, 248700]\n",
    "inp[cc[12]]=[0,1841179 , 755.09, 397000]\n",
    "inp[cc[13]]=[0,1471508 , 310.71, 397000]\n",
    "inp[cc[14]]=[0,506615 , 47.87, 357749]\n",
    "\n",
    "inp[cc[15]]=[1,961609 , 188, 274800]\n",
    "inp[cc[16]]=[1,1752286 , 525.14 , 63630]\n",
    "inp[cc[17]]=[1,1790658 , 517 , 90800]\n",
    "inp[cc[18]]=[1,1173179 , 115 , 85410]\n",
    "inp[cc[19]]=[1,615993 , 86.40 , 173500]\n",
    "inp[cc[20]]=[1,664046 , 412 , 95360]\n",
    "inp[cc[21]]=[1,488100 , 118 ,  237618]\n",
    "inp[cc[22]]=[0,428737 ,  91.88 ,  223500]\n",
    "inp[cc[23]]=[0,237591 ,  41.66,  92990]\n",
    "inp[cc[24]]=[0,200548 ,  15.93,  223500]\n",
    "inp[cc[25]]=[0,769498 ,  327,  90800]\n",
    "inp[cc[26]]=[1,673469 ,  454,  214300]\n",
    "inp[cc[27]]=[1,655281,  715.48,  136800]\n",
    "inp[cc[28]]=[1,437725,  368,  37090]\n",
    "inp[cc[29]]=[1,115227,  51.47,  27600]\n",
    "inp[cc[30]]=[1,284355,  163.8,  20200]\n",
    "inp[cc[30]][0]"
   ]
  },
  {
   "cell_type": "code",
   "execution_count": 69,
   "metadata": {},
   "outputs": [],
   "source": [
    "#добавим признак столицы\n",
    "def add_stol(city):\n",
    "    return inp[city][0]\n",
    "    \n",
    "data['is_stol']=data['City'].apply(lambda x: add_stol(x))\n",
    "\n",
    "#население\n",
    "def add_dem(city):\n",
    "    return inp[city][1]\n",
    "    \n",
    "data['dem']=data['City'].apply(lambda x: add_dem(x))\n",
    "\n",
    "#площадь\n",
    "def add_S(city):\n",
    "    return inp[city][2]\n",
    "    \n",
    "data['S']=data['City'].apply(lambda x: add_S(x))\n",
    "\n",
    "#бюджеты\n",
    "\n",
    "def add_bu(city):\n",
    "    return inp[city][3]\n",
    "    \n",
    "data['bu']=data['City'].apply(lambda x: add_bu(x))"
   ]
  },
  {
   "cell_type": "markdown",
   "execution_count": null,
   "metadata": {},
   "source": [
    "прирост незначительный\n",
    "попробуем добавить плотность населения"
   ]
  },
  {
   "cell_type": "code",
   "execution_count": 70,
   "metadata": {},
   "outputs": [],
   "source": [
    "data['plotn'] = data['dem']/data['S']"
   ]
  },
  {
   "cell_type": "markdown",
   "execution_count": null,
   "metadata": {},
   "source": [
    "посчитаем сколько ресторанов в каждом городе учавствует в датасете"
   ]
  },
  {
   "cell_type": "code",
   "execution_count": 71,
   "metadata": {},
   "outputs": [],
   "source": [
    "kols = data['City'].value_counts().values\n",
    "#преабразуем в словарь\n",
    "kk={}\n",
    "for i in range(0,31):\n",
    "    kk[cc[i]] = kols[i]\n",
    "    \n",
    "    \n",
    "#добавим как признак\n",
    "def add_kols(city):\n",
    "    return kk[city]\n",
    "    \n",
    "data['kols']=data['City'].apply(lambda x: add_kols(x))\n"
   ]
  },
  {
   "cell_type": "markdown",
   "execution_count": null,
   "metadata": {},
   "source": [
    "прирост незначительный, посмотрим сколько человек приходится на ресторан"
   ]
  },
  {
   "cell_type": "code",
   "execution_count": 72,
   "metadata": {},
   "outputs": [],
   "source": [
    "#data['kols']=data['dem']/data['kols'] результат хуже"
   ]
  },
  {
   "cell_type": "markdown",
   "execution_count": null,
   "metadata": {},
   "source": [
    "может быть id в рейтинге TripAdvisor не случайная величина..."
   ]
  },
  {
   "cell_type": "code",
   "execution_count": 73,
   "metadata": {},
   "outputs": [],
   "source": [
    "data['Idea'] = data['ID_TA'].apply(lambda x: float(x[1:]))\n",
    "\n"
   ]
  },
  {
   "cell_type": "markdown",
   "execution_count": null,
   "metadata": {},
   "source": [
    "Как ни странно это дало результат\n",
    "проверим то же для id ресторана"
   ]
  },
  {
   "cell_type": "code",
   "execution_count": 74,
   "metadata": {},
   "outputs": [],
   "source": [
    "#data['Idea2'] = data['Restaurant_id'].apply(lambda x: float(x[3:])) \n",
    "#результата почти нет, не будем его использовать\n"
   ]
  },
  {
   "cell_type": "code",
   "execution_count": 75,
   "metadata": {},
   "outputs": [
    {
     "data": {
      "text/html": [
       "<div>\n",
       "<style scoped>\n",
       "    .dataframe tbody tr th:only-of-type {\n",
       "        vertical-align: middle;\n",
       "    }\n",
       "\n",
       "    .dataframe tbody tr th {\n",
       "        vertical-align: top;\n",
       "    }\n",
       "\n",
       "    .dataframe thead th {\n",
       "        text-align: right;\n",
       "    }\n",
       "</style>\n",
       "<table border=\"1\" class=\"dataframe\">\n",
       "  <thead>\n",
       "    <tr style=\"text-align: right;\">\n",
       "      <th></th>\n",
       "      <th>Rating</th>\n",
       "      <th>Ranking</th>\n",
       "      <th>Price Range</th>\n",
       "      <th>Number_of_Reviews</th>\n",
       "      <th>rcity</th>\n",
       "      <th>normrank</th>\n",
       "      <th>CuisineLen</th>\n",
       "      <th>lenW</th>\n",
       "      <th>days</th>\n",
       "      <th>days2</th>\n",
       "      <th>dem</th>\n",
       "      <th>S</th>\n",
       "      <th>bu</th>\n",
       "      <th>plotn</th>\n",
       "      <th>kols</th>\n",
       "      <th>Idea</th>\n",
       "      <th>sample</th>\n",
       "    </tr>\n",
       "  </thead>\n",
       "  <tbody>\n",
       "    <tr>\n",
       "      <th>Rating</th>\n",
       "      <td>1.000000</td>\n",
       "      <td>-0.109897</td>\n",
       "      <td>0.015052</td>\n",
       "      <td>0.011011</td>\n",
       "      <td>-0.014849</td>\n",
       "      <td>-0.168783</td>\n",
       "      <td>0.034506</td>\n",
       "      <td>0.026496</td>\n",
       "      <td>-0.018638</td>\n",
       "      <td>-0.024618</td>\n",
       "      <td>-0.004918</td>\n",
       "      <td>0.009214</td>\n",
       "      <td>-0.008560</td>\n",
       "      <td>-0.014405</td>\n",
       "      <td>-0.014779</td>\n",
       "      <td>0.049589</td>\n",
       "      <td>0.936543</td>\n",
       "    </tr>\n",
       "    <tr>\n",
       "      <th>Ranking</th>\n",
       "      <td>-0.109897</td>\n",
       "      <td>1.000000</td>\n",
       "      <td>-0.244280</td>\n",
       "      <td>-0.223156</td>\n",
       "      <td>0.709068</td>\n",
       "      <td>0.570506</td>\n",
       "      <td>-0.322408</td>\n",
       "      <td>-0.049664</td>\n",
       "      <td>0.153333</td>\n",
       "      <td>0.143327</td>\n",
       "      <td>0.567986</td>\n",
       "      <td>0.375697</td>\n",
       "      <td>0.389803</td>\n",
       "      <td>0.325236</td>\n",
       "      <td>0.709012</td>\n",
       "      <td>0.049756</td>\n",
       "      <td>0.006271</td>\n",
       "    </tr>\n",
       "    <tr>\n",
       "      <th>Price Range</th>\n",
       "      <td>0.015052</td>\n",
       "      <td>-0.244280</td>\n",
       "      <td>1.000000</td>\n",
       "      <td>0.312827</td>\n",
       "      <td>0.046516</td>\n",
       "      <td>-0.482829</td>\n",
       "      <td>0.563037</td>\n",
       "      <td>0.070313</td>\n",
       "      <td>-0.423323</td>\n",
       "      <td>-0.121097</td>\n",
       "      <td>0.034858</td>\n",
       "      <td>0.024478</td>\n",
       "      <td>0.022905</td>\n",
       "      <td>0.032727</td>\n",
       "      <td>0.047093</td>\n",
       "      <td>-0.289650</td>\n",
       "      <td>-0.001212</td>\n",
       "    </tr>\n",
       "    <tr>\n",
       "      <th>Number_of_Reviews</th>\n",
       "      <td>0.011011</td>\n",
       "      <td>-0.223156</td>\n",
       "      <td>0.312827</td>\n",
       "      <td>1.000000</td>\n",
       "      <td>0.025882</td>\n",
       "      <td>-0.407404</td>\n",
       "      <td>0.409403</td>\n",
       "      <td>0.042826</td>\n",
       "      <td>-0.209009</td>\n",
       "      <td>-0.149111</td>\n",
       "      <td>0.023260</td>\n",
       "      <td>0.047590</td>\n",
       "      <td>0.092650</td>\n",
       "      <td>-0.007203</td>\n",
       "      <td>0.026251</td>\n",
       "      <td>-0.289950</td>\n",
       "      <td>0.002689</td>\n",
       "    </tr>\n",
       "    <tr>\n",
       "      <th>rcity</th>\n",
       "      <td>-0.014849</td>\n",
       "      <td>0.709068</td>\n",
       "      <td>0.046516</td>\n",
       "      <td>0.025882</td>\n",
       "      <td>1.000000</td>\n",
       "      <td>-0.003133</td>\n",
       "      <td>-0.024780</td>\n",
       "      <td>0.009739</td>\n",
       "      <td>-0.070057</td>\n",
       "      <td>-0.001733</td>\n",
       "      <td>0.799645</td>\n",
       "      <td>0.527513</td>\n",
       "      <td>0.549610</td>\n",
       "      <td>0.460680</td>\n",
       "      <td>0.999949</td>\n",
       "      <td>-0.057841</td>\n",
       "      <td>0.004591</td>\n",
       "    </tr>\n",
       "    <tr>\n",
       "      <th>normrank</th>\n",
       "      <td>-0.168783</td>\n",
       "      <td>0.570506</td>\n",
       "      <td>-0.482829</td>\n",
       "      <td>-0.407404</td>\n",
       "      <td>-0.003133</td>\n",
       "      <td>1.000000</td>\n",
       "      <td>-0.543578</td>\n",
       "      <td>-0.105676</td>\n",
       "      <td>0.381625</td>\n",
       "      <td>0.243517</td>\n",
       "      <td>-0.001172</td>\n",
       "      <td>0.000692</td>\n",
       "      <td>-0.002906</td>\n",
       "      <td>-0.003700</td>\n",
       "      <td>-0.003148</td>\n",
       "      <td>0.167943</td>\n",
       "      <td>0.001995</td>\n",
       "    </tr>\n",
       "    <tr>\n",
       "      <th>CuisineLen</th>\n",
       "      <td>0.034506</td>\n",
       "      <td>-0.322408</td>\n",
       "      <td>0.563037</td>\n",
       "      <td>0.409403</td>\n",
       "      <td>-0.024780</td>\n",
       "      <td>-0.543578</td>\n",
       "      <td>1.000000</td>\n",
       "      <td>0.068919</td>\n",
       "      <td>-0.369577</td>\n",
       "      <td>-0.218419</td>\n",
       "      <td>0.047455</td>\n",
       "      <td>0.078676</td>\n",
       "      <td>0.018136</td>\n",
       "      <td>-0.099120</td>\n",
       "      <td>-0.024105</td>\n",
       "      <td>-0.220469</td>\n",
       "      <td>-0.003202</td>\n",
       "    </tr>\n",
       "    <tr>\n",
       "      <th>lenW</th>\n",
       "      <td>0.026496</td>\n",
       "      <td>-0.049664</td>\n",
       "      <td>0.070313</td>\n",
       "      <td>0.042826</td>\n",
       "      <td>0.009739</td>\n",
       "      <td>-0.105676</td>\n",
       "      <td>0.068919</td>\n",
       "      <td>1.000000</td>\n",
       "      <td>-0.148249</td>\n",
       "      <td>0.035381</td>\n",
       "      <td>0.011588</td>\n",
       "      <td>0.013180</td>\n",
       "      <td>0.006405</td>\n",
       "      <td>0.003207</td>\n",
       "      <td>0.009877</td>\n",
       "      <td>-0.012389</td>\n",
       "      <td>0.004501</td>\n",
       "    </tr>\n",
       "    <tr>\n",
       "      <th>days</th>\n",
       "      <td>-0.018638</td>\n",
       "      <td>0.153333</td>\n",
       "      <td>-0.423323</td>\n",
       "      <td>-0.209009</td>\n",
       "      <td>-0.070057</td>\n",
       "      <td>0.381625</td>\n",
       "      <td>-0.369577</td>\n",
       "      <td>-0.148249</td>\n",
       "      <td>1.000000</td>\n",
       "      <td>-0.180573</td>\n",
       "      <td>-0.130032</td>\n",
       "      <td>-0.114985</td>\n",
       "      <td>0.019886</td>\n",
       "      <td>0.042987</td>\n",
       "      <td>-0.070960</td>\n",
       "      <td>0.271078</td>\n",
       "      <td>-0.002919</td>\n",
       "    </tr>\n",
       "    <tr>\n",
       "      <th>days2</th>\n",
       "      <td>-0.024618</td>\n",
       "      <td>0.143327</td>\n",
       "      <td>-0.121097</td>\n",
       "      <td>-0.149111</td>\n",
       "      <td>-0.001733</td>\n",
       "      <td>0.243517</td>\n",
       "      <td>-0.218419</td>\n",
       "      <td>0.035381</td>\n",
       "      <td>-0.180573</td>\n",
       "      <td>1.000000</td>\n",
       "      <td>-0.020963</td>\n",
       "      <td>-0.022118</td>\n",
       "      <td>-0.014987</td>\n",
       "      <td>0.027259</td>\n",
       "      <td>-0.001960</td>\n",
       "      <td>-0.147621</td>\n",
       "      <td>-0.001079</td>\n",
       "    </tr>\n",
       "    <tr>\n",
       "      <th>dem</th>\n",
       "      <td>-0.004918</td>\n",
       "      <td>0.567986</td>\n",
       "      <td>0.034858</td>\n",
       "      <td>0.023260</td>\n",
       "      <td>0.799645</td>\n",
       "      <td>-0.001172</td>\n",
       "      <td>0.047455</td>\n",
       "      <td>0.011588</td>\n",
       "      <td>-0.130032</td>\n",
       "      <td>-0.020963</td>\n",
       "      <td>1.000000</td>\n",
       "      <td>0.887157</td>\n",
       "      <td>0.594144</td>\n",
       "      <td>-0.097646</td>\n",
       "      <td>0.799166</td>\n",
       "      <td>-0.042422</td>\n",
       "      <td>0.002703</td>\n",
       "    </tr>\n",
       "    <tr>\n",
       "      <th>S</th>\n",
       "      <td>0.009214</td>\n",
       "      <td>0.375697</td>\n",
       "      <td>0.024478</td>\n",
       "      <td>0.047590</td>\n",
       "      <td>0.527513</td>\n",
       "      <td>0.000692</td>\n",
       "      <td>0.078676</td>\n",
       "      <td>0.013180</td>\n",
       "      <td>-0.114985</td>\n",
       "      <td>-0.022118</td>\n",
       "      <td>0.887157</td>\n",
       "      <td>1.000000</td>\n",
       "      <td>0.582525</td>\n",
       "      <td>-0.435227</td>\n",
       "      <td>0.527249</td>\n",
       "      <td>-0.033230</td>\n",
       "      <td>0.001527</td>\n",
       "    </tr>\n",
       "    <tr>\n",
       "      <th>bu</th>\n",
       "      <td>-0.008560</td>\n",
       "      <td>0.389803</td>\n",
       "      <td>0.022905</td>\n",
       "      <td>0.092650</td>\n",
       "      <td>0.549610</td>\n",
       "      <td>-0.002906</td>\n",
       "      <td>0.018136</td>\n",
       "      <td>0.006405</td>\n",
       "      <td>0.019886</td>\n",
       "      <td>-0.014987</td>\n",
       "      <td>0.594144</td>\n",
       "      <td>0.582525</td>\n",
       "      <td>1.000000</td>\n",
       "      <td>0.007837</td>\n",
       "      <td>0.547011</td>\n",
       "      <td>-0.044988</td>\n",
       "      <td>0.002248</td>\n",
       "    </tr>\n",
       "    <tr>\n",
       "      <th>plotn</th>\n",
       "      <td>-0.014405</td>\n",
       "      <td>0.325236</td>\n",
       "      <td>0.032727</td>\n",
       "      <td>-0.007203</td>\n",
       "      <td>0.460680</td>\n",
       "      <td>-0.003700</td>\n",
       "      <td>-0.099120</td>\n",
       "      <td>0.003207</td>\n",
       "      <td>0.042987</td>\n",
       "      <td>0.027259</td>\n",
       "      <td>-0.097646</td>\n",
       "      <td>-0.435227</td>\n",
       "      <td>0.007837</td>\n",
       "      <td>1.000000</td>\n",
       "      <td>0.460896</td>\n",
       "      <td>-0.041932</td>\n",
       "      <td>0.003715</td>\n",
       "    </tr>\n",
       "    <tr>\n",
       "      <th>kols</th>\n",
       "      <td>-0.014779</td>\n",
       "      <td>0.709012</td>\n",
       "      <td>0.047093</td>\n",
       "      <td>0.026251</td>\n",
       "      <td>0.999949</td>\n",
       "      <td>-0.003148</td>\n",
       "      <td>-0.024105</td>\n",
       "      <td>0.009877</td>\n",
       "      <td>-0.070960</td>\n",
       "      <td>-0.001960</td>\n",
       "      <td>0.799166</td>\n",
       "      <td>0.527249</td>\n",
       "      <td>0.547011</td>\n",
       "      <td>0.460896</td>\n",
       "      <td>1.000000</td>\n",
       "      <td>-0.057697</td>\n",
       "      <td>0.004595</td>\n",
       "    </tr>\n",
       "    <tr>\n",
       "      <th>Idea</th>\n",
       "      <td>0.049589</td>\n",
       "      <td>0.049756</td>\n",
       "      <td>-0.289650</td>\n",
       "      <td>-0.289950</td>\n",
       "      <td>-0.057841</td>\n",
       "      <td>0.167943</td>\n",
       "      <td>-0.220469</td>\n",
       "      <td>-0.012389</td>\n",
       "      <td>0.271078</td>\n",
       "      <td>-0.147621</td>\n",
       "      <td>-0.042422</td>\n",
       "      <td>-0.033230</td>\n",
       "      <td>-0.044988</td>\n",
       "      <td>-0.041932</td>\n",
       "      <td>-0.057697</td>\n",
       "      <td>1.000000</td>\n",
       "      <td>-0.000315</td>\n",
       "    </tr>\n",
       "    <tr>\n",
       "      <th>sample</th>\n",
       "      <td>0.936543</td>\n",
       "      <td>0.006271</td>\n",
       "      <td>-0.001212</td>\n",
       "      <td>0.002689</td>\n",
       "      <td>0.004591</td>\n",
       "      <td>0.001995</td>\n",
       "      <td>-0.003202</td>\n",
       "      <td>0.004501</td>\n",
       "      <td>-0.002919</td>\n",
       "      <td>-0.001079</td>\n",
       "      <td>0.002703</td>\n",
       "      <td>0.001527</td>\n",
       "      <td>0.002248</td>\n",
       "      <td>0.003715</td>\n",
       "      <td>0.004595</td>\n",
       "      <td>-0.000315</td>\n",
       "      <td>1.000000</td>\n",
       "    </tr>\n",
       "  </tbody>\n",
       "</table>\n",
       "</div>"
      ],
      "text/plain": [
       "                     Rating   Ranking  Price Range  Number_of_Reviews  \\\n",
       "Rating             1.000000 -0.109897     0.015052           0.011011   \n",
       "Ranking           -0.109897  1.000000    -0.244280          -0.223156   \n",
       "Price Range        0.015052 -0.244280     1.000000           0.312827   \n",
       "Number_of_Reviews  0.011011 -0.223156     0.312827           1.000000   \n",
       "rcity             -0.014849  0.709068     0.046516           0.025882   \n",
       "normrank          -0.168783  0.570506    -0.482829          -0.407404   \n",
       "CuisineLen         0.034506 -0.322408     0.563037           0.409403   \n",
       "lenW               0.026496 -0.049664     0.070313           0.042826   \n",
       "days              -0.018638  0.153333    -0.423323          -0.209009   \n",
       "days2             -0.024618  0.143327    -0.121097          -0.149111   \n",
       "dem               -0.004918  0.567986     0.034858           0.023260   \n",
       "S                  0.009214  0.375697     0.024478           0.047590   \n",
       "bu                -0.008560  0.389803     0.022905           0.092650   \n",
       "plotn             -0.014405  0.325236     0.032727          -0.007203   \n",
       "kols              -0.014779  0.709012     0.047093           0.026251   \n",
       "Idea               0.049589  0.049756    -0.289650          -0.289950   \n",
       "sample             0.936543  0.006271    -0.001212           0.002689   \n",
       "\n",
       "                      rcity  normrank  CuisineLen      lenW      days  \\\n",
       "Rating            -0.014849 -0.168783    0.034506  0.026496 -0.018638   \n",
       "Ranking            0.709068  0.570506   -0.322408 -0.049664  0.153333   \n",
       "Price Range        0.046516 -0.482829    0.563037  0.070313 -0.423323   \n",
       "Number_of_Reviews  0.025882 -0.407404    0.409403  0.042826 -0.209009   \n",
       "rcity              1.000000 -0.003133   -0.024780  0.009739 -0.070057   \n",
       "normrank          -0.003133  1.000000   -0.543578 -0.105676  0.381625   \n",
       "CuisineLen        -0.024780 -0.543578    1.000000  0.068919 -0.369577   \n",
       "lenW               0.009739 -0.105676    0.068919  1.000000 -0.148249   \n",
       "days              -0.070057  0.381625   -0.369577 -0.148249  1.000000   \n",
       "days2             -0.001733  0.243517   -0.218419  0.035381 -0.180573   \n",
       "dem                0.799645 -0.001172    0.047455  0.011588 -0.130032   \n",
       "S                  0.527513  0.000692    0.078676  0.013180 -0.114985   \n",
       "bu                 0.549610 -0.002906    0.018136  0.006405  0.019886   \n",
       "plotn              0.460680 -0.003700   -0.099120  0.003207  0.042987   \n",
       "kols               0.999949 -0.003148   -0.024105  0.009877 -0.070960   \n",
       "Idea              -0.057841  0.167943   -0.220469 -0.012389  0.271078   \n",
       "sample             0.004591  0.001995   -0.003202  0.004501 -0.002919   \n",
       "\n",
       "                      days2       dem         S        bu     plotn      kols  \\\n",
       "Rating            -0.024618 -0.004918  0.009214 -0.008560 -0.014405 -0.014779   \n",
       "Ranking            0.143327  0.567986  0.375697  0.389803  0.325236  0.709012   \n",
       "Price Range       -0.121097  0.034858  0.024478  0.022905  0.032727  0.047093   \n",
       "Number_of_Reviews -0.149111  0.023260  0.047590  0.092650 -0.007203  0.026251   \n",
       "rcity             -0.001733  0.799645  0.527513  0.549610  0.460680  0.999949   \n",
       "normrank           0.243517 -0.001172  0.000692 -0.002906 -0.003700 -0.003148   \n",
       "CuisineLen        -0.218419  0.047455  0.078676  0.018136 -0.099120 -0.024105   \n",
       "lenW               0.035381  0.011588  0.013180  0.006405  0.003207  0.009877   \n",
       "days              -0.180573 -0.130032 -0.114985  0.019886  0.042987 -0.070960   \n",
       "days2              1.000000 -0.020963 -0.022118 -0.014987  0.027259 -0.001960   \n",
       "dem               -0.020963  1.000000  0.887157  0.594144 -0.097646  0.799166   \n",
       "S                 -0.022118  0.887157  1.000000  0.582525 -0.435227  0.527249   \n",
       "bu                -0.014987  0.594144  0.582525  1.000000  0.007837  0.547011   \n",
       "plotn              0.027259 -0.097646 -0.435227  0.007837  1.000000  0.460896   \n",
       "kols              -0.001960  0.799166  0.527249  0.547011  0.460896  1.000000   \n",
       "Idea              -0.147621 -0.042422 -0.033230 -0.044988 -0.041932 -0.057697   \n",
       "sample            -0.001079  0.002703  0.001527  0.002248  0.003715  0.004595   \n",
       "\n",
       "                       Idea    sample  \n",
       "Rating             0.049589  0.936543  \n",
       "Ranking            0.049756  0.006271  \n",
       "Price Range       -0.289650 -0.001212  \n",
       "Number_of_Reviews -0.289950  0.002689  \n",
       "rcity             -0.057841  0.004591  \n",
       "normrank           0.167943  0.001995  \n",
       "CuisineLen        -0.220469 -0.003202  \n",
       "lenW              -0.012389  0.004501  \n",
       "days               0.271078 -0.002919  \n",
       "days2             -0.147621 -0.001079  \n",
       "dem               -0.042422  0.002703  \n",
       "S                 -0.033230  0.001527  \n",
       "bu                -0.044988  0.002248  \n",
       "plotn             -0.041932  0.003715  \n",
       "kols              -0.057697  0.004595  \n",
       "Idea               1.000000 -0.000315  \n",
       "sample            -0.000315  1.000000  "
      ]
     },
     "execution_count": 75,
     "metadata": {},
     "output_type": "execute_result"
    },
    {
     "data": {
      "image/png": "[encoded data removed]",
      "text/plain": [
       "<Figure size 1080x720 with 2 Axes>"
      ]
     },
     "metadata": {
      "needs_background": "light"
     },
     "output_type": "display_data"
    }
   ],
   "source": [
    "cdata=pd.DataFrame()\n",
    "cdata['Rating']=data['Rating']\n",
    "cdata['Ranking']=data['Ranking']\n",
    "cdata['Price Range']=data['Price Range']\n",
    "cdata['Number_of_Reviews']=data['Number_of_Reviews']\n",
    "cdata['rcity']=data['rcity']\n",
    "cdata['normrank']=data['normrank']\n",
    "cdata['CuisineLen']=data['CuisineLen']\n",
    "cdata['lenW']=data['lenW']\n",
    "cdata['days']=data['days']\n",
    "cdata['days2']=data['days2']\n",
    "cdata['dem']=data['dem']\n",
    "cdata['S']=data['S']\n",
    "cdata['bu']=data['bu']\n",
    "cdata['plotn']=data['plotn']\n",
    "cdata['kols']=data['kols']   \n",
    "cdata['Idea']=data['Idea']                        \n",
    "cdata['sample']=data['sample']   \n",
    "\n",
    "plt.rcParams['figure.figsize'] = (15,10)\n",
    "sns.heatmap(cdata.corr(),)\n",
    "cdata.corr()\n"
   ]
  },
  {
   "cell_type": "markdown",
   "execution_count": null,
   "metadata": {},
   "source": [
    "параметр kols очень сильно корелирует с rcity один можно удалить (почти не повлияло на результат)"
   ]
  },
  {
   "cell_type": "code",
   "execution_count": 76,
   "metadata": {},
   "outputs": [
    {
     "data": {
      "text/plain": [
       "<matplotlib.axes._subplots.AxesSubplot at 0x7f34889a3898>"
      ]
     },
     "execution_count": 76,
     "metadata": {},
     "output_type": "execute_result"
    },
    {
     "data": {
      "image/png": "[encoded data removed]",
      "text/plain": [
       "<Figure size 1080x720 with 1 Axes>"
      ]
     },
     "metadata": {
      "needs_background": "light"
     },
     "output_type": "display_data"
    }
   ],
   "source": [
    "data[data['sample']==1]['Rating'].hist(bins=5)\n"
   ]
  },
  {
   "cell_type": "code",
   "execution_count": 77,
   "metadata": {},
   "outputs": [
    {
     "data": {
      "text/plain": [
       "<matplotlib.axes._subplots.AxesSubplot at 0x7f348899ff98>"
      ]
     },
     "execution_count": 77,
     "metadata": {},
     "output_type": "execute_result"
    },
    {
     "data": {
      "image/png": "[encoded data removed]",
      "text/plain": [
       "<Figure size 1080x720 with 1 Axes>"
      ]
     },
     "metadata": {
      "needs_background": "light"
     },
     "output_type": "display_data"
    }
   ],
   "source": [
    "#data['Number_of_Reviews'] = data['Number_of_Reviews']**(1/3) #выгавнивание распределения ни как не сказывается \n",
    "data[data['sample']==1]['Number_of_Reviews'].hist(bins=100)"
   ]
  },
  {
   "cell_type": "code",
   "execution_count": 78,
   "metadata": {},
   "outputs": [
    {
     "data": {
      "image/png": "[encoded data removed]",
      "text/plain": [
       "<Figure size 1008x288 with 1 Axes>"
      ]
     },
     "metadata": {
      "needs_background": "light"
     },
     "output_type": "display_data"
    }
   ],
   "source": [
    "get_boxplot('CuisineLen','Rating') # в целом количество кухонь не сильно влияет на оценку однако 10 явно выбивается из общей картины"
   ]
  },
  {
   "cell_type": "code",
   "execution_count": 79,
   "metadata": {},
   "outputs": [
    {
     "data": {
      "text/plain": [
       "26"
      ]
     },
     "execution_count": 79,
     "metadata": {},
     "output_type": "execute_result"
    }
   ],
   "source": [
    "len(data[data['CuisineLen']==10]) # таких всего 26 попробуем удалить\n",
    "#data = data.loc[data['CuisineLen']!=10] # модель ухудшилась"
   ]
  },
  {
   "cell_type": "code",
   "execution_count": 80,
   "metadata": {},
   "outputs": [
    {
     "data": {
      "text/plain": [
       "26"
      ]
     },
     "execution_count": 80,
     "metadata": {},
     "output_type": "execute_result"
    }
   ],
   "source": [
    "len(data[data['CuisineLen']==10])"
   ]
  },
  {
   "cell_type": "code",
   "execution_count": 81,
   "metadata": {},
   "outputs": [
    {
     "data": {
      "text/plain": [
       "array([[<matplotlib.axes._subplots.AxesSubplot object at 0x7f34885b9080>,\n",
       "        <matplotlib.axes._subplots.AxesSubplot object at 0x7f348854e438>,\n",
       "        <matplotlib.axes._subplots.AxesSubplot object at 0x7f348856a9b0>,\n",
       "        <matplotlib.axes._subplots.AxesSubplot object at 0x7f3488506f28>],\n",
       "       [<matplotlib.axes._subplots.AxesSubplot object at 0x7f34885274e0>,\n",
       "        <matplotlib.axes._subplots.AxesSubplot object at 0x7f3488544a58>,\n",
       "        <matplotlib.axes._subplots.AxesSubplot object at 0x7f34884e0fd0>,\n",
       "        <matplotlib.axes._subplots.AxesSubplot object at 0x7f34885025c0>],\n",
       "       [<matplotlib.axes._subplots.AxesSubplot object at 0x7f34885025f8>,\n",
       "        <matplotlib.axes._subplots.AxesSubplot object at 0x7f34884c30b8>,\n",
       "        <matplotlib.axes._subplots.AxesSubplot object at 0x7f348845e630>,\n",
       "        <matplotlib.axes._subplots.AxesSubplot object at 0x7f3488479ba8>],\n",
       "       [<matplotlib.axes._subplots.AxesSubplot object at 0x7f3488427160>,\n",
       "        <matplotlib.axes._subplots.AxesSubplot object at 0x7f34883cd6d8>,\n",
       "        <matplotlib.axes._subplots.AxesSubplot object at 0x7f34883f3c50>,\n",
       "        <matplotlib.axes._subplots.AxesSubplot object at 0x7f34883a4208>],\n",
       "       [<matplotlib.axes._subplots.AxesSubplot object at 0x7f348830a780>,\n",
       "        <matplotlib.axes._subplots.AxesSubplot object at 0x7f3488331cf8>,\n",
       "        <matplotlib.axes._subplots.AxesSubplot object at 0x7f34882a12b0>,\n",
       "        <matplotlib.axes._subplots.AxesSubplot object at 0x7f3488248828>]],\n",
       "      dtype=object)"
      ]
     },
     "execution_count": 81,
     "metadata": {},
     "output_type": "execute_result"
    },
    {
     "data": {
      "image/png": "[encoded data removed]",
      "text/plain": [
       "<Figure size 1080x720 with 20 Axes>"
      ]
     },
     "metadata": {
      "needs_background": "light"
     },
     "output_type": "display_data"
    }
   ],
   "source": [
    "cdata[cdata['sample']==1].hist()\n"
   ]
  },
  {
   "cell_type": "code",
   "execution_count": 82,
   "metadata": {},
   "outputs": [
    {
     "data": {
      "text/plain": [
       "<matplotlib.axes._subplots.AxesSubplot at 0x7f347884e940>"
      ]
     },
     "execution_count": 82,
     "metadata": {},
     "output_type": "execute_result"
    },
    {
     "data": {
      "image/png": "[encoded data removed]",
      "text/plain": [
       "<Figure size 1080x720 with 1 Axes>"
      ]
     },
     "metadata": {
      "needs_background": "light"
     },
     "output_type": "display_data"
    }
   ],
   "source": [
    "data[data['sample']==1]['plotn'].hist(bins=10)"
   ]
  },
  {
   "cell_type": "code",
   "execution_count": 83,
   "metadata": {},
   "outputs": [],
   "source": [
    "#возможно значения больше 15000 выбросы. Попробуем удалить\n",
    "#data = data.loc[data['plotn']<15000] #модель ухудшилась\n",
    " #mean = 4935.762228799952\n",
    "#data['plotn'] = data['plotn'].apply(lambda x: x if x< 15000 else  4935.76) # модель ухудшилась\n",
    "#data[data['sample']==1]['plotn'].hist(bins=10)"
   ]
  },
  {
   "cell_type": "code",
   "execution_count": 84,
   "metadata": {},
   "outputs": [],
   "source": [
    "def preproc_data(df_input):\n",
    "    '''includes several functions to pre-process the predictor data.'''\n",
    "    \n",
    "    df_output = df_input.copy()\n",
    "    \n",
    "    # ################### 1. Предобработка ############################################################## \n",
    "    # убираем не нужные для модели признаки\n",
    "    df_output.drop(['Restaurant_id','ID_TA','kols'], axis = 1, inplace=True)\n",
    "    \n",
    "    \n",
    "    # ################### 2. NAN ############################################################## \n",
    "    # Далее заполняем пропуски, вы можете попробовать заполнением средним или средним по городу и тд...\n",
    "    \n",
    "    # тут ваш код по обработке NAN\n",
    "    # Для примера я возьму столбец Number of Reviews\n",
    "    \n",
    "    \n",
    "    \n",
    "    # ################### 3. Encoding ############################################################## \n",
    "    # для One-Hot Encoding в pandas есть готовая функция - get_dummies. Особенно радует параметр dummy_na\n",
    "    df_output = pd.get_dummies(df_output, columns=[ 'City',], dummy_na=True)\n",
    "    # тут ваш код не Encoding фитчей\n",
    "    # ....\n",
    "    \n",
    "    \n",
    "    # ################### 4. Feature Engineering ####################################################\n",
    "    # тут ваш код не генерацию новых фитчей\n",
    "    # ....\n",
    "    \n",
    "    \n",
    "    # ################### 5. Clean #################################################### \n",
    "    # убираем признаки которые еще не успели обработать, \n",
    "    # модель на признаках с dtypes \"object\" обучаться не будет, просто выберим их и удалим\n",
    "    object_columns = [s for s in df_output.columns if df_output[s].dtypes == 'object']\n",
    "    df_output.drop(object_columns, axis = 1, inplace=True)\n",
    "    \n",
    "    return df_output"
   ]
  },
  {
   "cell_type": "markdown",
   "execution_count": null,
   "metadata": {},
   "source": [
    ">По хорошему, можно было бы перевести эту большую функцию в класс и разбить на подфункции (согласно ООП). "
   ]
  },
  {
   "cell_type": "markdown",
   "execution_count": null,
   "metadata": {},
   "source": [
    "#### Запускаем и проверяем что получилось"
   ]
  },
  {
   "cell_type": "code",
   "execution_count": 85,
   "metadata": {},
   "outputs": [
    {
     "data": {
      "text/html": [
       "<div>\n",
       "<style scoped>\n",
       "    .dataframe tbody tr th:only-of-type {\n",
       "        vertical-align: middle;\n",
       "    }\n",
       "\n",
       "    .dataframe tbody tr th {\n",
       "        vertical-align: top;\n",
       "    }\n",
       "\n",
       "    .dataframe thead th {\n",
       "        text-align: right;\n",
       "    }\n",
       "</style>\n",
       "<table border=\"1\" class=\"dataframe\">\n",
       "  <thead>\n",
       "    <tr style=\"text-align: right;\">\n",
       "      <th></th>\n",
       "      <th>Ranking</th>\n",
       "      <th>Price Range</th>\n",
       "      <th>Number_of_Reviews</th>\n",
       "      <th>sample</th>\n",
       "      <th>Rating</th>\n",
       "      <th>Number_of_Reviews_isNAN</th>\n",
       "      <th>rcity</th>\n",
       "      <th>normrank</th>\n",
       "      <th>CuisineLen</th>\n",
       "      <th>GlutenFreeOptions</th>\n",
       "      <th>...</th>\n",
       "      <th>City_Oporto</th>\n",
       "      <th>City_Oslo</th>\n",
       "      <th>City_Paris</th>\n",
       "      <th>City_Prague</th>\n",
       "      <th>City_Rome</th>\n",
       "      <th>City_Stockholm</th>\n",
       "      <th>City_Vienna</th>\n",
       "      <th>City_Warsaw</th>\n",
       "      <th>City_Zurich</th>\n",
       "      <th>City_nan</th>\n",
       "    </tr>\n",
       "  </thead>\n",
       "  <tbody>\n",
       "    <tr>\n",
       "      <th>20978</th>\n",
       "      <td>4453.0</td>\n",
       "      <td>2</td>\n",
       "      <td>84.0</td>\n",
       "      <td>1</td>\n",
       "      <td>4.0</td>\n",
       "      <td>0</td>\n",
       "      <td>13986.0</td>\n",
       "      <td>0.318390</td>\n",
       "      <td>3</td>\n",
       "      <td>0</td>\n",
       "      <td>...</td>\n",
       "      <td>0</td>\n",
       "      <td>0</td>\n",
       "      <td>1</td>\n",
       "      <td>0</td>\n",
       "      <td>0</td>\n",
       "      <td>0</td>\n",
       "      <td>0</td>\n",
       "      <td>0</td>\n",
       "      <td>0</td>\n",
       "      <td>0</td>\n",
       "    </tr>\n",
       "    <tr>\n",
       "      <th>1379</th>\n",
       "      <td>361.0</td>\n",
       "      <td>2</td>\n",
       "      <td>322.0</td>\n",
       "      <td>0</td>\n",
       "      <td>0.0</td>\n",
       "      <td>0</td>\n",
       "      <td>8809.0</td>\n",
       "      <td>0.040981</td>\n",
       "      <td>8</td>\n",
       "      <td>1</td>\n",
       "      <td>...</td>\n",
       "      <td>0</td>\n",
       "      <td>0</td>\n",
       "      <td>0</td>\n",
       "      <td>0</td>\n",
       "      <td>0</td>\n",
       "      <td>0</td>\n",
       "      <td>0</td>\n",
       "      <td>0</td>\n",
       "      <td>0</td>\n",
       "      <td>0</td>\n",
       "    </tr>\n",
       "    <tr>\n",
       "      <th>47533</th>\n",
       "      <td>2277.0</td>\n",
       "      <td>2</td>\n",
       "      <td>247.0</td>\n",
       "      <td>1</td>\n",
       "      <td>4.0</td>\n",
       "      <td>0</td>\n",
       "      <td>6275.0</td>\n",
       "      <td>0.362869</td>\n",
       "      <td>4</td>\n",
       "      <td>1</td>\n",
       "      <td>...</td>\n",
       "      <td>0</td>\n",
       "      <td>0</td>\n",
       "      <td>0</td>\n",
       "      <td>0</td>\n",
       "      <td>0</td>\n",
       "      <td>0</td>\n",
       "      <td>0</td>\n",
       "      <td>0</td>\n",
       "      <td>0</td>\n",
       "      <td>0</td>\n",
       "    </tr>\n",
       "    <tr>\n",
       "      <th>44883</th>\n",
       "      <td>12119.0</td>\n",
       "      <td>2</td>\n",
       "      <td>49.0</td>\n",
       "      <td>1</td>\n",
       "      <td>3.5</td>\n",
       "      <td>0</td>\n",
       "      <td>16444.0</td>\n",
       "      <td>0.736986</td>\n",
       "      <td>1</td>\n",
       "      <td>0</td>\n",
       "      <td>...</td>\n",
       "      <td>0</td>\n",
       "      <td>0</td>\n",
       "      <td>0</td>\n",
       "      <td>0</td>\n",
       "      <td>0</td>\n",
       "      <td>0</td>\n",
       "      <td>0</td>\n",
       "      <td>0</td>\n",
       "      <td>0</td>\n",
       "      <td>0</td>\n",
       "    </tr>\n",
       "    <tr>\n",
       "      <th>47302</th>\n",
       "      <td>2468.0</td>\n",
       "      <td>0</td>\n",
       "      <td>8.0</td>\n",
       "      <td>1</td>\n",
       "      <td>2.5</td>\n",
       "      <td>0</td>\n",
       "      <td>2666.0</td>\n",
       "      <td>0.925731</td>\n",
       "      <td>1</td>\n",
       "      <td>0</td>\n",
       "      <td>...</td>\n",
       "      <td>0</td>\n",
       "      <td>0</td>\n",
       "      <td>0</td>\n",
       "      <td>0</td>\n",
       "      <td>0</td>\n",
       "      <td>0</td>\n",
       "      <td>0</td>\n",
       "      <td>0</td>\n",
       "      <td>0</td>\n",
       "      <td>0</td>\n",
       "    </tr>\n",
       "    <tr>\n",
       "      <th>48947</th>\n",
       "      <td>1234.0</td>\n",
       "      <td>0</td>\n",
       "      <td>5.0</td>\n",
       "      <td>1</td>\n",
       "      <td>5.0</td>\n",
       "      <td>0</td>\n",
       "      <td>3444.0</td>\n",
       "      <td>0.358304</td>\n",
       "      <td>1</td>\n",
       "      <td>0</td>\n",
       "      <td>...</td>\n",
       "      <td>0</td>\n",
       "      <td>0</td>\n",
       "      <td>0</td>\n",
       "      <td>0</td>\n",
       "      <td>0</td>\n",
       "      <td>0</td>\n",
       "      <td>1</td>\n",
       "      <td>0</td>\n",
       "      <td>0</td>\n",
       "      <td>0</td>\n",
       "    </tr>\n",
       "    <tr>\n",
       "      <th>47634</th>\n",
       "      <td>890.0</td>\n",
       "      <td>0</td>\n",
       "      <td>9.0</td>\n",
       "      <td>1</td>\n",
       "      <td>4.5</td>\n",
       "      <td>0</td>\n",
       "      <td>2154.0</td>\n",
       "      <td>0.413185</td>\n",
       "      <td>1</td>\n",
       "      <td>0</td>\n",
       "      <td>...</td>\n",
       "      <td>0</td>\n",
       "      <td>0</td>\n",
       "      <td>0</td>\n",
       "      <td>0</td>\n",
       "      <td>0</td>\n",
       "      <td>0</td>\n",
       "      <td>0</td>\n",
       "      <td>1</td>\n",
       "      <td>0</td>\n",
       "      <td>0</td>\n",
       "    </tr>\n",
       "    <tr>\n",
       "      <th>32799</th>\n",
       "      <td>5202.0</td>\n",
       "      <td>2</td>\n",
       "      <td>45.0</td>\n",
       "      <td>1</td>\n",
       "      <td>3.5</td>\n",
       "      <td>0</td>\n",
       "      <td>8809.0</td>\n",
       "      <td>0.590532</td>\n",
       "      <td>4</td>\n",
       "      <td>0</td>\n",
       "      <td>...</td>\n",
       "      <td>0</td>\n",
       "      <td>0</td>\n",
       "      <td>0</td>\n",
       "      <td>0</td>\n",
       "      <td>0</td>\n",
       "      <td>0</td>\n",
       "      <td>0</td>\n",
       "      <td>0</td>\n",
       "      <td>0</td>\n",
       "      <td>0</td>\n",
       "    </tr>\n",
       "    <tr>\n",
       "      <th>45254</th>\n",
       "      <td>7036.0</td>\n",
       "      <td>0</td>\n",
       "      <td>14.0</td>\n",
       "      <td>1</td>\n",
       "      <td>4.5</td>\n",
       "      <td>0</td>\n",
       "      <td>13986.0</td>\n",
       "      <td>0.503075</td>\n",
       "      <td>1</td>\n",
       "      <td>0</td>\n",
       "      <td>...</td>\n",
       "      <td>0</td>\n",
       "      <td>0</td>\n",
       "      <td>1</td>\n",
       "      <td>0</td>\n",
       "      <td>0</td>\n",
       "      <td>0</td>\n",
       "      <td>0</td>\n",
       "      <td>0</td>\n",
       "      <td>0</td>\n",
       "      <td>0</td>\n",
       "    </tr>\n",
       "    <tr>\n",
       "      <th>38948</th>\n",
       "      <td>1577.0</td>\n",
       "      <td>1</td>\n",
       "      <td>36.0</td>\n",
       "      <td>1</td>\n",
       "      <td>4.0</td>\n",
       "      <td>0</td>\n",
       "      <td>3254.0</td>\n",
       "      <td>0.484634</td>\n",
       "      <td>2</td>\n",
       "      <td>0</td>\n",
       "      <td>...</td>\n",
       "      <td>0</td>\n",
       "      <td>0</td>\n",
       "      <td>0</td>\n",
       "      <td>0</td>\n",
       "      <td>0</td>\n",
       "      <td>0</td>\n",
       "      <td>0</td>\n",
       "      <td>0</td>\n",
       "      <td>0</td>\n",
       "      <td>0</td>\n",
       "    </tr>\n",
       "  </tbody>\n",
       "</table>\n",
       "<p>10 rows × 177 columns</p>\n",
       "</div>"
      ],
      "text/plain": [
       "       Ranking  Price Range  Number_of_Reviews  sample  Rating  \\\n",
       "20978   4453.0            2               84.0       1     4.0   \n",
       "1379     361.0            2              322.0       0     0.0   \n",
       "47533   2277.0            2              247.0       1     4.0   \n",
       "44883  12119.0            2               49.0       1     3.5   \n",
       "47302   2468.0            0                8.0       1     2.5   \n",
       "48947   1234.0            0                5.0       1     5.0   \n",
       "47634    890.0            0                9.0       1     4.5   \n",
       "32799   5202.0            2               45.0       1     3.5   \n",
       "45254   7036.0            0               14.0       1     4.5   \n",
       "38948   1577.0            1               36.0       1     4.0   \n",
       "\n",
       "       Number_of_Reviews_isNAN    rcity  normrank  CuisineLen  \\\n",
       "20978                        0  13986.0  0.318390           3   \n",
       "1379                         0   8809.0  0.040981           8   \n",
       "47533                        0   6275.0  0.362869           4   \n",
       "44883                        0  16444.0  0.736986           1   \n",
       "47302                        0   2666.0  0.925731           1   \n",
       "48947                        0   3444.0  0.358304           1   \n",
       "47634                        0   2154.0  0.413185           1   \n",
       "32799                        0   8809.0  0.590532           4   \n",
       "45254                        0  13986.0  0.503075           1   \n",
       "38948                        0   3254.0  0.484634           2   \n",
       "\n",
       "       GlutenFreeOptions  ...  City_Oporto  City_Oslo  City_Paris  \\\n",
       "20978                  0  ...            0          0           1   \n",
       "1379                   1  ...            0          0           0   \n",
       "47533                  1  ...            0          0           0   \n",
       "44883                  0  ...            0          0           0   \n",
       "47302                  0  ...            0          0           0   \n",
       "48947                  0  ...            0          0           0   \n",
       "47634                  0  ...            0          0           0   \n",
       "32799                  0  ...            0          0           0   \n",
       "45254                  0  ...            0          0           1   \n",
       "38948                  0  ...            0          0           0   \n",
       "\n",
       "       City_Prague  City_Rome  City_Stockholm  City_Vienna  City_Warsaw  \\\n",
       "20978            0          0               0            0            0   \n",
       "1379             0          0               0            0            0   \n",
       "47533            0          0               0            0            0   \n",
       "44883            0          0               0            0            0   \n",
       "47302            0          0               0            0            0   \n",
       "48947            0          0               0            1            0   \n",
       "47634            0          0               0            0            1   \n",
       "32799            0          0               0            0            0   \n",
       "45254            0          0               0            0            0   \n",
       "38948            0          0               0            0            0   \n",
       "\n",
       "       City_Zurich  City_nan  \n",
       "20978            0         0  \n",
       "1379             0         0  \n",
       "47533            0         0  \n",
       "44883            0         0  \n",
       "47302            0         0  \n",
       "48947            0         0  \n",
       "47634            0         0  \n",
       "32799            0         0  \n",
       "45254            0         0  \n",
       "38948            0         0  \n",
       "\n",
       "[10 rows x 177 columns]"
      ]
     },
     "execution_count": 85,
     "metadata": {},
     "output_type": "execute_result"
    }
   ],
   "source": [
    "df_preproc = preproc_data(data)\n",
    "df_preproc.sample(10)"
   ]
  },
  {
   "cell_type": "code",
   "execution_count": null,
   "metadata": {},
   "outputs": [],
   "source": []
  },
  {
   "cell_type": "code",
   "execution_count": 86,
   "metadata": {},
   "outputs": [
    {
     "name": "stdout",
     "output_type": "stream",
     "text": [
      "<class 'pandas.core.frame.DataFrame'>\n",
      "RangeIndex: 50000 entries, 0 to 49999\n",
      "Columns: 177 entries, Ranking to City_nan\n",
      "dtypes: float64(8), int64(136), uint8(33)\n",
      "memory usage: 56.5 MB\n"
     ]
    }
   ],
   "source": [
    "df_preproc.info()"
   ]
  },
  {
   "cell_type": "code",
   "execution_count": 87,
   "metadata": {},
   "outputs": [],
   "source": [
    "# Теперь выделим тестовую часть\n",
    "train_data = df_preproc.query('sample == 1').drop(['sample'], axis=1)\n",
    "test_data = df_preproc.query('sample == 0').drop(['sample'], axis=1)\n",
    "\n",
    "y = train_data.Rating.values            # наш таргет\n",
    "X = train_data.drop(['Rating'], axis=1)"
   ]
  },
  {
   "cell_type": "markdown",
   "execution_count": null,
   "metadata": {},
   "source": [
    "**Перед тем как отправлять наши данные на обучение, разделим данные на еще один тест и трейн, для валидации. \n",
    "Это поможет нам проверить, как хорошо наша модель работает, до отправки submissiona на kaggle.**"
   ]
  },
  {
   "cell_type": "code",
   "execution_count": 88,
   "metadata": {},
   "outputs": [],
   "source": [
    "# Воспользуемся специальной функцие train_test_split для разбивки тестовых данных\n",
    "# выделим 20% данных на валидацию (параметр test_size)\n",
    "X_train, X_test, y_train, y_test = train_test_split(X, y, test_size=0.2, random_state=RANDOM_SEED)"
   ]
  },
  {
   "cell_type": "code",
   "execution_count": 89,
   "metadata": {},
   "outputs": [
    {
     "data": {
      "text/plain": [
       "((10000, 176), (40000, 176), (40000, 175), (32000, 175), (8000, 175))"
      ]
     },
     "execution_count": 89,
     "metadata": {},
     "output_type": "execute_result"
    }
   ],
   "source": [
    "# проверяем\n",
    "test_data.shape, train_data.shape, X.shape, X_train.shape, X_test.shape"
   ]
  },
  {
   "cell_type": "markdown",
   "execution_count": null,
   "metadata": {},
   "source": [
    "# Model \n",
    "Сам ML"
   ]
  },
  {
   "cell_type": "code",
   "execution_count": 90,
   "metadata": {},
   "outputs": [],
   "source": [
    "# Импортируем необходимые библиотеки:\n",
    "from sklearn.ensemble import RandomForestRegressor # инструмент для создания и обучения модели\n",
    "from sklearn import metrics # инструменты для оценки точности модели"
   ]
  },
  {
   "cell_type": "code",
   "execution_count": 91,
   "metadata": {},
   "outputs": [],
   "source": [
    "# Создаём модель (НАСТРОЙКИ НЕ ТРОГАЕМ)\n",
    "model = RandomForestRegressor(n_estimators=100, verbose=1, n_jobs=-1, random_state=RANDOM_SEED)"
   ]
  },
  {
   "cell_type": "code",
   "execution_count": 92,
   "metadata": {},
   "outputs": [
    {
     "name": "stderr",
     "output_type": "stream",
     "text": [
      "[Parallel(n_jobs=-1)]: Using backend ThreadingBackend with 4 concurrent workers.\n",
      "[Parallel(n_jobs=-1)]: Done  42 tasks      | elapsed:    8.5s\n",
      "[Parallel(n_jobs=-1)]: Done 100 out of 100 | elapsed:   19.3s finished\n",
      "[Parallel(n_jobs=4)]: Using backend ThreadingBackend with 4 concurrent workers.\n",
      "[Parallel(n_jobs=4)]: Done  42 tasks      | elapsed:    0.0s\n",
      "[Parallel(n_jobs=4)]: Done 100 out of 100 | elapsed:    0.1s finished\n"
     ]
    }
   ],
   "source": [
    "# Обучаем модель на тестовом наборе данных\n",
    "model.fit(X_train, y_train)\n",
    "\n",
    "# Используем обученную модель для предсказания рейтинга ресторанов в тестовой выборке.\n",
    "# Предсказанные значения записываем в переменную y_pred\n",
    "y_pred = model.predict(X_test)"
   ]
  },
  {
   "cell_type": "code",
   "execution_count": 93,
   "metadata": {},
   "outputs": [
    {
     "name": "stdout",
     "output_type": "stream",
     "text": [
      "MAE: 0.19711312499999997\n"
     ]
    }
   ],
   "source": [
    "# Сравниваем предсказанные значения (y_pred) с реальными (y_test), и смотрим насколько они в среднем отличаются\n",
    "# Метрика называется Mean Absolute Error (MAE) и показывает среднее отклонение предсказанных значений от фактических.\n",
    "print('MAE:', metrics.mean_absolute_error(y_test, y_pred))"
   ]
  },
  {
   "cell_type": "code",
   "execution_count": 94,
   "metadata": {},
   "outputs": [
    {
     "data": {
      "text/plain": [
       "<matplotlib.axes._subplots.AxesSubplot at 0x7f3470219d68>"
      ]
     },
     "execution_count": 94,
     "metadata": {},
     "output_type": "execute_result"
    },
    {
     "data": {
      "image/png": "[encoded data removed]",
      "text/plain": [
       "<Figure size 720x720 with 1 Axes>"
      ]
     },
     "metadata": {
      "needs_background": "light"
     },
     "output_type": "display_data"
    }
   ],
   "source": [
    "# в RandomForestRegressor есть возможность вывести самые важные признаки для модели\n",
    "plt.rcParams['figure.figsize'] = (10,10)\n",
    "feat_importances = pd.Series(model.feature_importances_, index=X.columns)\n",
    "feat_importances.nlargest(15).plot(kind='barh')"
   ]
  },
  {
   "cell_type": "markdown",
   "execution_count": null,
   "metadata": {},
   "source": [
    "# Submission\n",
    "Если все устраевает - готовим Submission на кагл"
   ]
  },
  {
   "cell_type": "code",
   "execution_count": 95,
   "metadata": {},
   "outputs": [
    {
     "data": {
      "text/html": [
       "<div>\n",
       "<style scoped>\n",
       "    .dataframe tbody tr th:only-of-type {\n",
       "        vertical-align: middle;\n",
       "    }\n",
       "\n",
       "    .dataframe tbody tr th {\n",
       "        vertical-align: top;\n",
       "    }\n",
       "\n",
       "    .dataframe thead th {\n",
       "        text-align: right;\n",
       "    }\n",
       "</style>\n",
       "<table border=\"1\" class=\"dataframe\">\n",
       "  <thead>\n",
       "    <tr style=\"text-align: right;\">\n",
       "      <th></th>\n",
       "      <th>Ranking</th>\n",
       "      <th>Price Range</th>\n",
       "      <th>Number_of_Reviews</th>\n",
       "      <th>Rating</th>\n",
       "      <th>Number_of_Reviews_isNAN</th>\n",
       "      <th>rcity</th>\n",
       "      <th>normrank</th>\n",
       "      <th>CuisineLen</th>\n",
       "      <th>GlutenFreeOptions</th>\n",
       "      <th>Dutch</th>\n",
       "      <th>...</th>\n",
       "      <th>City_Oporto</th>\n",
       "      <th>City_Oslo</th>\n",
       "      <th>City_Paris</th>\n",
       "      <th>City_Prague</th>\n",
       "      <th>City_Rome</th>\n",
       "      <th>City_Stockholm</th>\n",
       "      <th>City_Vienna</th>\n",
       "      <th>City_Warsaw</th>\n",
       "      <th>City_Zurich</th>\n",
       "      <th>City_nan</th>\n",
       "    </tr>\n",
       "  </thead>\n",
       "  <tbody>\n",
       "    <tr>\n",
       "      <th>4018</th>\n",
       "      <td>1303.0</td>\n",
       "      <td>2</td>\n",
       "      <td>129.0</td>\n",
       "      <td>0.0</td>\n",
       "      <td>0</td>\n",
       "      <td>8809.0</td>\n",
       "      <td>0.147917</td>\n",
       "      <td>3</td>\n",
       "      <td>0</td>\n",
       "      <td>0</td>\n",
       "      <td>...</td>\n",
       "      <td>0</td>\n",
       "      <td>0</td>\n",
       "      <td>0</td>\n",
       "      <td>0</td>\n",
       "      <td>0</td>\n",
       "      <td>0</td>\n",
       "      <td>0</td>\n",
       "      <td>0</td>\n",
       "      <td>0</td>\n",
       "      <td>0</td>\n",
       "    </tr>\n",
       "    <tr>\n",
       "      <th>8727</th>\n",
       "      <td>794.0</td>\n",
       "      <td>2</td>\n",
       "      <td>1543.0</td>\n",
       "      <td>0.0</td>\n",
       "      <td>0</td>\n",
       "      <td>6275.0</td>\n",
       "      <td>0.126534</td>\n",
       "      <td>6</td>\n",
       "      <td>0</td>\n",
       "      <td>0</td>\n",
       "      <td>...</td>\n",
       "      <td>0</td>\n",
       "      <td>0</td>\n",
       "      <td>0</td>\n",
       "      <td>0</td>\n",
       "      <td>0</td>\n",
       "      <td>0</td>\n",
       "      <td>0</td>\n",
       "      <td>0</td>\n",
       "      <td>0</td>\n",
       "      <td>0</td>\n",
       "    </tr>\n",
       "    <tr>\n",
       "      <th>2598</th>\n",
       "      <td>520.0</td>\n",
       "      <td>1</td>\n",
       "      <td>18.0</td>\n",
       "      <td>0.0</td>\n",
       "      <td>0</td>\n",
       "      <td>1141.0</td>\n",
       "      <td>0.455741</td>\n",
       "      <td>5</td>\n",
       "      <td>0</td>\n",
       "      <td>0</td>\n",
       "      <td>...</td>\n",
       "      <td>0</td>\n",
       "      <td>0</td>\n",
       "      <td>0</td>\n",
       "      <td>0</td>\n",
       "      <td>0</td>\n",
       "      <td>0</td>\n",
       "      <td>0</td>\n",
       "      <td>0</td>\n",
       "      <td>0</td>\n",
       "      <td>0</td>\n",
       "    </tr>\n",
       "    <tr>\n",
       "      <th>48</th>\n",
       "      <td>1077.0</td>\n",
       "      <td>0</td>\n",
       "      <td>3.0</td>\n",
       "      <td>0.0</td>\n",
       "      <td>0</td>\n",
       "      <td>1787.0</td>\n",
       "      <td>0.602686</td>\n",
       "      <td>1</td>\n",
       "      <td>0</td>\n",
       "      <td>0</td>\n",
       "      <td>...</td>\n",
       "      <td>0</td>\n",
       "      <td>0</td>\n",
       "      <td>0</td>\n",
       "      <td>0</td>\n",
       "      <td>0</td>\n",
       "      <td>0</td>\n",
       "      <td>0</td>\n",
       "      <td>0</td>\n",
       "      <td>0</td>\n",
       "      <td>0</td>\n",
       "    </tr>\n",
       "    <tr>\n",
       "      <th>8409</th>\n",
       "      <td>2168.0</td>\n",
       "      <td>1</td>\n",
       "      <td>88.0</td>\n",
       "      <td>0.0</td>\n",
       "      <td>0</td>\n",
       "      <td>5948.0</td>\n",
       "      <td>0.364492</td>\n",
       "      <td>2</td>\n",
       "      <td>0</td>\n",
       "      <td>0</td>\n",
       "      <td>...</td>\n",
       "      <td>0</td>\n",
       "      <td>0</td>\n",
       "      <td>0</td>\n",
       "      <td>0</td>\n",
       "      <td>1</td>\n",
       "      <td>0</td>\n",
       "      <td>0</td>\n",
       "      <td>0</td>\n",
       "      <td>0</td>\n",
       "      <td>0</td>\n",
       "    </tr>\n",
       "    <tr>\n",
       "      <th>3123</th>\n",
       "      <td>2049.0</td>\n",
       "      <td>0</td>\n",
       "      <td>5.0</td>\n",
       "      <td>0.0</td>\n",
       "      <td>0</td>\n",
       "      <td>3444.0</td>\n",
       "      <td>0.594948</td>\n",
       "      <td>1</td>\n",
       "      <td>0</td>\n",
       "      <td>0</td>\n",
       "      <td>...</td>\n",
       "      <td>0</td>\n",
       "      <td>0</td>\n",
       "      <td>0</td>\n",
       "      <td>0</td>\n",
       "      <td>0</td>\n",
       "      <td>0</td>\n",
       "      <td>1</td>\n",
       "      <td>0</td>\n",
       "      <td>0</td>\n",
       "      <td>0</td>\n",
       "    </tr>\n",
       "    <tr>\n",
       "      <th>2519</th>\n",
       "      <td>5316.0</td>\n",
       "      <td>0</td>\n",
       "      <td>5.0</td>\n",
       "      <td>0.0</td>\n",
       "      <td>0</td>\n",
       "      <td>7796.0</td>\n",
       "      <td>0.681888</td>\n",
       "      <td>1</td>\n",
       "      <td>0</td>\n",
       "      <td>0</td>\n",
       "      <td>...</td>\n",
       "      <td>0</td>\n",
       "      <td>0</td>\n",
       "      <td>0</td>\n",
       "      <td>0</td>\n",
       "      <td>0</td>\n",
       "      <td>0</td>\n",
       "      <td>0</td>\n",
       "      <td>0</td>\n",
       "      <td>0</td>\n",
       "      <td>0</td>\n",
       "    </tr>\n",
       "    <tr>\n",
       "      <th>6380</th>\n",
       "      <td>2613.0</td>\n",
       "      <td>0</td>\n",
       "      <td>39.0</td>\n",
       "      <td>0.0</td>\n",
       "      <td>0</td>\n",
       "      <td>8809.0</td>\n",
       "      <td>0.296628</td>\n",
       "      <td>1</td>\n",
       "      <td>0</td>\n",
       "      <td>0</td>\n",
       "      <td>...</td>\n",
       "      <td>0</td>\n",
       "      <td>0</td>\n",
       "      <td>0</td>\n",
       "      <td>0</td>\n",
       "      <td>0</td>\n",
       "      <td>0</td>\n",
       "      <td>0</td>\n",
       "      <td>0</td>\n",
       "      <td>0</td>\n",
       "      <td>0</td>\n",
       "    </tr>\n",
       "    <tr>\n",
       "      <th>3290</th>\n",
       "      <td>6682.0</td>\n",
       "      <td>0</td>\n",
       "      <td>3.0</td>\n",
       "      <td>0.0</td>\n",
       "      <td>0</td>\n",
       "      <td>13986.0</td>\n",
       "      <td>0.477763</td>\n",
       "      <td>2</td>\n",
       "      <td>0</td>\n",
       "      <td>0</td>\n",
       "      <td>...</td>\n",
       "      <td>0</td>\n",
       "      <td>0</td>\n",
       "      <td>1</td>\n",
       "      <td>0</td>\n",
       "      <td>0</td>\n",
       "      <td>0</td>\n",
       "      <td>0</td>\n",
       "      <td>0</td>\n",
       "      <td>0</td>\n",
       "      <td>0</td>\n",
       "    </tr>\n",
       "    <tr>\n",
       "      <th>3224</th>\n",
       "      <td>12816.0</td>\n",
       "      <td>0</td>\n",
       "      <td>4.0</td>\n",
       "      <td>0.0</td>\n",
       "      <td>0</td>\n",
       "      <td>16444.0</td>\n",
       "      <td>0.779372</td>\n",
       "      <td>1</td>\n",
       "      <td>0</td>\n",
       "      <td>0</td>\n",
       "      <td>...</td>\n",
       "      <td>0</td>\n",
       "      <td>0</td>\n",
       "      <td>0</td>\n",
       "      <td>0</td>\n",
       "      <td>0</td>\n",
       "      <td>0</td>\n",
       "      <td>0</td>\n",
       "      <td>0</td>\n",
       "      <td>0</td>\n",
       "      <td>0</td>\n",
       "    </tr>\n",
       "  </tbody>\n",
       "</table>\n",
       "<p>10 rows × 176 columns</p>\n",
       "</div>"
      ],
      "text/plain": [
       "      Ranking  Price Range  Number_of_Reviews  Rating  \\\n",
       "4018   1303.0            2              129.0     0.0   \n",
       "8727    794.0            2             1543.0     0.0   \n",
       "2598    520.0            1               18.0     0.0   \n",
       "48     1077.0            0                3.0     0.0   \n",
       "8409   2168.0            1               88.0     0.0   \n",
       "3123   2049.0            0                5.0     0.0   \n",
       "2519   5316.0            0                5.0     0.0   \n",
       "6380   2613.0            0               39.0     0.0   \n",
       "3290   6682.0            0                3.0     0.0   \n",
       "3224  12816.0            0                4.0     0.0   \n",
       "\n",
       "      Number_of_Reviews_isNAN    rcity  normrank  CuisineLen  \\\n",
       "4018                        0   8809.0  0.147917           3   \n",
       "8727                        0   6275.0  0.126534           6   \n",
       "2598                        0   1141.0  0.455741           5   \n",
       "48                          0   1787.0  0.602686           1   \n",
       "8409                        0   5948.0  0.364492           2   \n",
       "3123                        0   3444.0  0.594948           1   \n",
       "2519                        0   7796.0  0.681888           1   \n",
       "6380                        0   8809.0  0.296628           1   \n",
       "3290                        0  13986.0  0.477763           2   \n",
       "3224                        0  16444.0  0.779372           1   \n",
       "\n",
       "      GlutenFreeOptions  Dutch  ...  City_Oporto  City_Oslo  City_Paris  \\\n",
       "4018                  0      0  ...            0          0           0   \n",
       "8727                  0      0  ...            0          0           0   \n",
       "2598                  0      0  ...            0          0           0   \n",
       "48                    0      0  ...            0          0           0   \n",
       "8409                  0      0  ...            0          0           0   \n",
       "3123                  0      0  ...            0          0           0   \n",
       "2519                  0      0  ...            0          0           0   \n",
       "6380                  0      0  ...            0          0           0   \n",
       "3290                  0      0  ...            0          0           1   \n",
       "3224                  0      0  ...            0          0           0   \n",
       "\n",
       "      City_Prague  City_Rome  City_Stockholm  City_Vienna  City_Warsaw  \\\n",
       "4018            0          0               0            0            0   \n",
       "8727            0          0               0            0            0   \n",
       "2598            0          0               0            0            0   \n",
       "48              0          0               0            0            0   \n",
       "8409            0          1               0            0            0   \n",
       "3123            0          0               0            1            0   \n",
       "2519            0          0               0            0            0   \n",
       "6380            0          0               0            0            0   \n",
       "3290            0          0               0            0            0   \n",
       "3224            0          0               0            0            0   \n",
       "\n",
       "      City_Zurich  City_nan  \n",
       "4018            0         0  \n",
       "8727            0         0  \n",
       "2598            0         0  \n",
       "48              0         0  \n",
       "8409            0         0  \n",
       "3123            0         0  \n",
       "2519            0         0  \n",
       "6380            0         0  \n",
       "3290            0         0  \n",
       "3224            0         0  \n",
       "\n",
       "[10 rows x 176 columns]"
      ]
     },
     "execution_count": 95,
     "metadata": {},
     "output_type": "execute_result"
    }
   ],
   "source": [
    "test_data.sample(10)"
   ]
  },
  {
   "cell_type": "code",
   "execution_count": 96,
   "metadata": {},
   "outputs": [],
   "source": [
    "test_data = test_data.drop(['Rating'], axis=1)"
   ]
  },
  {
   "cell_type": "code",
   "execution_count": 97,
   "metadata": {},
   "outputs": [
    {
     "data": {
      "text/html": [
       "<div>\n",
       "<style scoped>\n",
       "    .dataframe tbody tr th:only-of-type {\n",
       "        vertical-align: middle;\n",
       "    }\n",
       "\n",
       "    .dataframe tbody tr th {\n",
       "        vertical-align: top;\n",
       "    }\n",
       "\n",
       "    .dataframe thead th {\n",
       "        text-align: right;\n",
       "    }\n",
       "</style>\n",
       "<table border=\"1\" class=\"dataframe\">\n",
       "  <thead>\n",
       "    <tr style=\"text-align: right;\">\n",
       "      <th></th>\n",
       "      <th>Restaurant_id</th>\n",
       "      <th>Rating</th>\n",
       "    </tr>\n",
       "  </thead>\n",
       "  <tbody>\n",
       "    <tr>\n",
       "      <th>0</th>\n",
       "      <td>id_0</td>\n",
       "      <td>2.0</td>\n",
       "    </tr>\n",
       "    <tr>\n",
       "      <th>1</th>\n",
       "      <td>id_1</td>\n",
       "      <td>2.5</td>\n",
       "    </tr>\n",
       "    <tr>\n",
       "      <th>2</th>\n",
       "      <td>id_2</td>\n",
       "      <td>4.0</td>\n",
       "    </tr>\n",
       "    <tr>\n",
       "      <th>3</th>\n",
       "      <td>id_3</td>\n",
       "      <td>1.0</td>\n",
       "    </tr>\n",
       "    <tr>\n",
       "      <th>4</th>\n",
       "      <td>id_4</td>\n",
       "      <td>4.0</td>\n",
       "    </tr>\n",
       "    <tr>\n",
       "      <th>...</th>\n",
       "      <td>...</td>\n",
       "      <td>...</td>\n",
       "    </tr>\n",
       "    <tr>\n",
       "      <th>9995</th>\n",
       "      <td>id_9995</td>\n",
       "      <td>3.0</td>\n",
       "    </tr>\n",
       "    <tr>\n",
       "      <th>9996</th>\n",
       "      <td>id_9996</td>\n",
       "      <td>1.5</td>\n",
       "    </tr>\n",
       "    <tr>\n",
       "      <th>9997</th>\n",
       "      <td>id_9997</td>\n",
       "      <td>4.5</td>\n",
       "    </tr>\n",
       "    <tr>\n",
       "      <th>9998</th>\n",
       "      <td>id_9998</td>\n",
       "      <td>1.0</td>\n",
       "    </tr>\n",
       "    <tr>\n",
       "      <th>9999</th>\n",
       "      <td>id_9999</td>\n",
       "      <td>2.5</td>\n",
       "    </tr>\n",
       "  </tbody>\n",
       "</table>\n",
       "<p>10000 rows × 2 columns</p>\n",
       "</div>"
      ],
      "text/plain": [
       "     Restaurant_id  Rating\n",
       "0             id_0     2.0\n",
       "1             id_1     2.5\n",
       "2             id_2     4.0\n",
       "3             id_3     1.0\n",
       "4             id_4     4.0\n",
       "...            ...     ...\n",
       "9995       id_9995     3.0\n",
       "9996       id_9996     1.5\n",
       "9997       id_9997     4.5\n",
       "9998       id_9998     1.0\n",
       "9999       id_9999     2.5\n",
       "\n",
       "[10000 rows x 2 columns]"
      ]
     },
     "execution_count": 97,
     "metadata": {},
     "output_type": "execute_result"
    }
   ],
   "source": [
    "sample_submission"
   ]
  },
  {
   "cell_type": "code",
   "execution_count": 98,
   "metadata": {},
   "outputs": [
    {
     "name": "stderr",
     "output_type": "stream",
     "text": [
      "[Parallel(n_jobs=4)]: Using backend ThreadingBackend with 4 concurrent workers.\n",
      "[Parallel(n_jobs=4)]: Done  42 tasks      | elapsed:    0.0s\n",
      "[Parallel(n_jobs=4)]: Done 100 out of 100 | elapsed:    0.1s finished\n"
     ]
    }
   ],
   "source": [
    "predict_submission = model.predict(test_data)"
   ]
  },
  {
   "cell_type": "code",
   "execution_count": 99,
   "metadata": {},
   "outputs": [
    {
     "data": {
      "text/plain": [
       "array([3.03 , 4.175, 4.165, ..., 3.01 , 4.465, 4.1  ])"
      ]
     },
     "execution_count": 99,
     "metadata": {},
     "output_type": "execute_result"
    }
   ],
   "source": [
    "predict_submission"
   ]
  },
  {
   "cell_type": "code",
   "execution_count": 100,
   "metadata": {},
   "outputs": [
    {
     "data": {
      "text/html": [
       "<div>\n",
       "<style scoped>\n",
       "    .dataframe tbody tr th:only-of-type {\n",
       "        vertical-align: middle;\n",
       "    }\n",
       "\n",
       "    .dataframe tbody tr th {\n",
       "        vertical-align: top;\n",
       "    }\n",
       "\n",
       "    .dataframe thead th {\n",
       "        text-align: right;\n",
       "    }\n",
       "</style>\n",
       "<table border=\"1\" class=\"dataframe\">\n",
       "  <thead>\n",
       "    <tr style=\"text-align: right;\">\n",
       "      <th></th>\n",
       "      <th>Restaurant_id</th>\n",
       "      <th>Rating</th>\n",
       "    </tr>\n",
       "  </thead>\n",
       "  <tbody>\n",
       "    <tr>\n",
       "      <th>0</th>\n",
       "      <td>id_0</td>\n",
       "      <td>3.030</td>\n",
       "    </tr>\n",
       "    <tr>\n",
       "      <th>1</th>\n",
       "      <td>id_1</td>\n",
       "      <td>4.175</td>\n",
       "    </tr>\n",
       "    <tr>\n",
       "      <th>2</th>\n",
       "      <td>id_2</td>\n",
       "      <td>4.165</td>\n",
       "    </tr>\n",
       "    <tr>\n",
       "      <th>3</th>\n",
       "      <td>id_3</td>\n",
       "      <td>4.320</td>\n",
       "    </tr>\n",
       "    <tr>\n",
       "      <th>4</th>\n",
       "      <td>id_4</td>\n",
       "      <td>4.455</td>\n",
       "    </tr>\n",
       "    <tr>\n",
       "      <th>5</th>\n",
       "      <td>id_5</td>\n",
       "      <td>4.475</td>\n",
       "    </tr>\n",
       "    <tr>\n",
       "      <th>6</th>\n",
       "      <td>id_6</td>\n",
       "      <td>1.820</td>\n",
       "    </tr>\n",
       "    <tr>\n",
       "      <th>7</th>\n",
       "      <td>id_7</td>\n",
       "      <td>3.315</td>\n",
       "    </tr>\n",
       "    <tr>\n",
       "      <th>8</th>\n",
       "      <td>id_8</td>\n",
       "      <td>4.105</td>\n",
       "    </tr>\n",
       "    <tr>\n",
       "      <th>9</th>\n",
       "      <td>id_9</td>\n",
       "      <td>4.635</td>\n",
       "    </tr>\n",
       "  </tbody>\n",
       "</table>\n",
       "</div>"
      ],
      "text/plain": [
       "  Restaurant_id  Rating\n",
       "0          id_0   3.030\n",
       "1          id_1   4.175\n",
       "2          id_2   4.165\n",
       "3          id_3   4.320\n",
       "4          id_4   4.455\n",
       "5          id_5   4.475\n",
       "6          id_6   1.820\n",
       "7          id_7   3.315\n",
       "8          id_8   4.105\n",
       "9          id_9   4.635"
      ]
     },
     "execution_count": 100,
     "metadata": {},
     "output_type": "execute_result"
    }
   ],
   "source": [
    "sample_submission['Rating'] = predict_submission\n",
    "sample_submission.to_csv('submission.csv', index=False)\n",
    "sample_submission.head(10)"
   ]
  },
  {
   "cell_type": "markdown",
   "execution_count": null,
   "metadata": {},
   "source": [
    "# What's next?\n",
    "Или что делать, чтоб улучшить результат:\n",
    "* Обработать оставшиеся признаки в понятный для машины формат\n",
    "* Посмотреть, что еще можно извлечь из признаков\n",
    "* Сгенерировать новые признаки\n",
    "* Подгрузить дополнительные данные, например: по населению или благосостоянию городов\n",
    "* Подобрать состав признаков\n",
    "\n",
    "В общем, процесс творческий и весьма увлекательный! Удачи в соревновании!\n"
   ]
  },
  {
   "cell_type": "code",
   "execution_count": null,
   "metadata": {},
   "outputs": [],
   "source": []
  },
  {
   "cell_type": "code",
   "execution_count": null,
   "metadata": {},
   "outputs": [],
   "source": []
  },
  {
   "cell_type": "code",
   "execution_count": null,
   "metadata": {},
   "outputs": [],
   "source": []
  },
  {
   "cell_type": "code",
   "execution_count": null,
   "metadata": {},
   "outputs": [],
   "source": []
  },
  {
   "cell_type": "code",
   "execution_count": null,
   "metadata": {},
   "outputs": [],
   "source": []
  }
 ],
 "metadata": {
  "kernelspec": {
   "display_name": "Python 3",
   "language": "python",
   "name": "python3"
  },
  "language_info": {
   "codemirror_mode": {
    "name": "ipython",
    "version": 3
   },
   "file_extension": ".py",
   "mimetype": "text/x-python",
   "name": "python",
   "nbconvert_exporter": "python",
   "pygments_lexer": "ipython3",
   "version": "3.6.6"
  }
 },
 "nbformat": 4,
 "nbformat_minor": 4
}
